{
 "cells": [
  {
   "cell_type": "markdown",
   "metadata": {},
   "source": [
    "<div class=\"alert alert-block alert-info\">\n",
    "    <img style=\"float: right;\" src=\"https://raw.githubusercontent.com/OpenSourceEconomics/ose-corporate-design/master/logos/OSE_logo_RGB.svg\" width=\"150\">\n",
    "    <u><h1>Respy Tutorial Lecture</h1></u>\n",
    "</div>"
   ]
  },
  {
   "cell_type": "markdown",
   "metadata": {},
   "source": [
    "### What is respy?\n",
    "\n",
    "respy is an open source framework written in Python for the simulation and estimation of some finite-horizon discrete choice dynamic programming models. The group of models which can be currently represented in respy are called Eckstein-Keane-Wolpin models (Aguirregabiria and Mira (2010))\n",
    "\n",
    "### Why should I use the package?\n",
    "\n",
    "What makes respy powerful is that it allows to build and solve structural models in weeks or months whose development previously took years. The design of respy allows the researcher to flexibly add the following components to her model.\n",
    "\n",
    "### What should I expect from this presentation?\n",
    "\n",
    "The upcoming tutorial provides an example on how you can utilize respy to set up your own model. For this purpose we showcase the implementation of a Robinson Crusoe economy as a discrete choice dynamic programming model.\n",
    "\n",
    "### Why do you use a toy model if your package is \n",
    "\n",
    "Just to be clear, don't misinterpret the fact that we explain respy using such a simplistic model. respy is not a toy and can just as well solve state-of-the-art structural models. It's just easier to explain respy and its features in a situation where we don't have to explain a complicated model at the same time.\n",
    "\n"
   ]
  },
  {
   "cell_type": "markdown",
   "metadata": {},
   "source": [
    "<div class=\"alert alert-block alert-info\">\n",
    "    <u><h2>Preliminaries</h2></u>\n",
    "</div>"
   ]
  },
  {
   "cell_type": "code",
   "execution_count": 70,
   "metadata": {},
   "outputs": [],
   "source": [
    "# import necessary libaries\n",
    "import matplotlib.pyplot as plt\n",
    "import pandas as pd\n",
    "import respy as rp\n",
    "import yaml\n",
    "import seaborn as sns\n",
    "import numpy as np\n",
    "\n",
    "from pathlib import Path\n",
    "from time import time\n",
    "\n",
    "plt.style.use(\"plot_config/respy.mplstyle\")"
   ]
  },
  {
   "cell_type": "markdown",
   "metadata": {},
   "source": [
    "<div class=\"alert alert-block alert-info\">\n",
    "    <u><h2>Model Outline</h2></u>\n",
    "</div>"
   ]
  },
  {
   "cell_type": "markdown",
   "metadata": {},
   "source": [
    "\n",
    "> After setting sail against his parents' wishes, being captured by pirates, escaping from them, building a plantation, and setting sail again to capture slaves in Africa, [Robinson Crusoe](https://en.wikipedia.org/wiki/Robinson_Crusoe) stranded on a small island. He is alone with one dog, two cats, and only some supplies. He goes fishing to make ends meet and if he is too tired he will relax in his hammock. But, he cannot relax to often as storing food is a difficult task on a tropical island.\n",
    "\n",
    "\n",
    "- Robinson chooses every period $t = 0, \\dots, T - 1$ to either go fishing, $a = 0$, or spend the day in the hammock, $a = 1$\n",
    "\n",
    "- The utility of a choice, $U(s_t, a_t)$, depends on the state $s_t$, which contains information on the individual's characteristics, and the chosen alternative $a_t$.\n",
    "\n",
    "- For working alternatives like fishing utility consists of two components, a wage and a non-pecuniary component:\n",
    "\n",
    "$$\n",
    "    U(s_t, a_t) = \\underbrace{W(s_t, a_t)}_{wage} + \\underbrace{N(s_t, a_t)}_{non-pecuniary}\n",
    "$$\n",
    "\n",
    "- For non-working alternatives like the hammock, $W(s_t, 1) = 0$. Otherwise the wage is defined as\n",
    "$$\\begin{align}\n",
    "        \\\\\n",
    "        W(s_t, 0) &= r_a \\exp\\{x^w_{at} \\beta^w_a + \\epsilon_{at}\\}\\\\\n",
    "    \\ln(W(s_t, 0)) &= \\ln(r_a) + x^w_{at} \\beta^w_a + \\epsilon_{at}\n",
    "    \\\\\n",
    "\\end{align}$$\n",
    "\n",
    "    * $r_a$ is normally a market rental price for the skill units generated in the exponential expression. Another interpretation is that $ln(r_a)$ is simply the constant in the skill units.    \n",
    "    * $x^w_{at}$ and $\\beta^w_a$ are the choice- and time-dependent covariates and parameters related to the wage signaled by superscript $w$. \n",
    "    * $\\epsilon_{at}$ is a choice-specific random shock from the shock vector $\\epsilon_t \\sim \\mathcal{N}(0, \\Sigma)$ for all choices. Shocks are usually correlated across choices in one period, but are independent across periods.\n",
    "\n",
    "\n",
    "     - \n",
    "\n",
    "- The non-pecuniary rewards for working alternatives are a vector dot product of covariates $x_t^w$ and parameters $\\beta^w$. The superscript $w$ signals that the components belong to working alternatives.\n",
    "\n",
    "$$\n",
    "    N^w(s_t, a_t) = x_t^w\\beta^w\n",
    "$$\n",
    "\n",
    "\n",
    "- General assumption: Robinson is forward-looking and maximizes the expected present value of utility over the remaining lifetime.\n"
   ]
  },
  {
   "cell_type": "markdown",
   "metadata": {},
   "source": [
    "# Specifying your model\n",
    "\n",
    "Next we have to provide respy with the specifications of our model. For this purpose we create two objects that we will feed to the package.\n"
   ]
  },
  {
   "cell_type": "code",
   "execution_count": 71,
   "metadata": {},
   "outputs": [
    {
     "name": "stdout",
     "output_type": "stream",
     "text": [
      "Overwriting model_spec.csv\n"
     ]
    }
   ],
   "source": [
    "%%file model_spec.csv\n",
    "category,name,value\n",
    "delta,delta,0.95\n",
    "wage_fishing,exp_fishing,0.1\n",
    "nonpec_fishing,constant,-1\n",
    "nonpec_hammock,constant,2.5\n",
    "nonpec_hammock,not_fishing_last_period,-1\n",
    "shocks_sdcorr,sd_fishing,1\n",
    "shocks_sdcorr,sd_hammock,1\n",
    "shocks_sdcorr,corr_hammock_fishing,-0.2\n",
    "lagged_choice_1_hammock,constant,1"
   ]
  },
  {
   "cell_type": "code",
   "execution_count": 117,
   "metadata": {},
   "outputs": [
    {
     "name": "stdout",
     "output_type": "stream",
     "text": [
      "category,name,value\n",
      "delta,delta,0.95\n",
      "wage_fishing,exp_fishing,0.1\n",
      "nonpec_fishing,constant,-1\n",
      "nonpec_hammock,constant,2.5\n",
      "nonpec_hammock,not_fishing_last_period,-1\n",
      "shocks_sdcorr,sd_fishing,1\n",
      "shocks_sdcorr,sd_hammock,1\n",
      "shocks_sdcorr,corr_hammock_fishing,-0.2\n",
      "lagged_choice_1_hammock,constant,1\n"
     ]
    }
   ],
   "source": [
    "!cat model_spec.csv"
   ]
  },
  {
   "cell_type": "code",
   "execution_count": 125,
   "metadata": {},
   "outputs": [
    {
     "data": {
      "text/html": [
       "<div>\n",
       "<style scoped>\n",
       "    .dataframe tbody tr th:only-of-type {\n",
       "        vertical-align: middle;\n",
       "    }\n",
       "\n",
       "    .dataframe tbody tr th {\n",
       "        vertical-align: top;\n",
       "    }\n",
       "\n",
       "    .dataframe thead th {\n",
       "        text-align: right;\n",
       "    }\n",
       "</style>\n",
       "<table border=\"1\" class=\"dataframe\">\n",
       "  <thead>\n",
       "    <tr style=\"text-align: right;\">\n",
       "      <th></th>\n",
       "      <th></th>\n",
       "      <th>value</th>\n",
       "    </tr>\n",
       "    <tr>\n",
       "      <th>category</th>\n",
       "      <th>name</th>\n",
       "      <th></th>\n",
       "    </tr>\n",
       "  </thead>\n",
       "  <tbody>\n",
       "    <tr>\n",
       "      <th>delta</th>\n",
       "      <th>delta</th>\n",
       "      <td>0.95</td>\n",
       "    </tr>\n",
       "    <tr>\n",
       "      <th>wage_fishing</th>\n",
       "      <th>exp_fishing</th>\n",
       "      <td>0.10</td>\n",
       "    </tr>\n",
       "    <tr>\n",
       "      <th>nonpec_fishing</th>\n",
       "      <th>constant</th>\n",
       "      <td>-1.00</td>\n",
       "    </tr>\n",
       "    <tr>\n",
       "      <th rowspan=\"2\" valign=\"top\">nonpec_hammock</th>\n",
       "      <th>constant</th>\n",
       "      <td>2.50</td>\n",
       "    </tr>\n",
       "    <tr>\n",
       "      <th>not_fishing_last_period</th>\n",
       "      <td>-1.00</td>\n",
       "    </tr>\n",
       "    <tr>\n",
       "      <th rowspan=\"3\" valign=\"top\">shocks_sdcorr</th>\n",
       "      <th>sd_fishing</th>\n",
       "      <td>1.00</td>\n",
       "    </tr>\n",
       "    <tr>\n",
       "      <th>sd_hammock</th>\n",
       "      <td>1.00</td>\n",
       "    </tr>\n",
       "    <tr>\n",
       "      <th>corr_hammock_fishing</th>\n",
       "      <td>-0.20</td>\n",
       "    </tr>\n",
       "    <tr>\n",
       "      <th>lagged_choice_1_hammock</th>\n",
       "      <th>constant</th>\n",
       "      <td>1.00</td>\n",
       "    </tr>\n",
       "  </tbody>\n",
       "</table>\n",
       "</div>"
      ],
      "text/plain": [
       "                                                 value\n",
       "category                name                          \n",
       "delta                   delta                     0.95\n",
       "wage_fishing            exp_fishing               0.10\n",
       "nonpec_fishing          constant                 -1.00\n",
       "nonpec_hammock          constant                  2.50\n",
       "                        not_fishing_last_period  -1.00\n",
       "shocks_sdcorr           sd_fishing                1.00\n",
       "                        sd_hammock                1.00\n",
       "                        corr_hammock_fishing     -0.20\n",
       "lagged_choice_1_hammock constant                  1.00"
      ]
     },
     "execution_count": 125,
     "metadata": {},
     "output_type": "execute_result"
    }
   ],
   "source": [
    "model_spec = pd.read_csv(\"model_spec.csv\", index_col=[\"category\", \"name\"])\n",
    "model_spec"
   ]
  },
  {
   "cell_type": "markdown",
   "metadata": {},
   "source": [
    "The `params` object is complemented with `options` which contains additional information. \n"
   ]
  },
  {
   "cell_type": "code",
   "execution_count": 142,
   "metadata": {},
   "outputs": [
    {
     "name": "stdout",
     "output_type": "stream",
     "text": [
      "Overwriting options.yml\n"
     ]
    }
   ],
   "source": [
    "%%file options.yml\n",
    "n_periods: 10\n",
    "simulation_agents: 1000\n",
    "simulation_seed: 132\n",
    "covariates:\n",
    "    constant: \"1\"\n",
    "    not_fishing_last_period: \"lagged_choice_1 != 'fishing'\""
   ]
  },
  {
   "cell_type": "code",
   "execution_count": 143,
   "metadata": {},
   "outputs": [
    {
     "data": {
      "text/plain": [
       "{'n_periods': 10,\n",
       " 'simulation_agents': 1000,\n",
       " 'simulation_seed': 132,\n",
       " 'covariates': {'constant': '1',\n",
       "  'not_fishing_last_period': \"lagged_choice_1 != 'fishing'\"}}"
      ]
     },
     "execution_count": 143,
     "metadata": {},
     "output_type": "execute_result"
    }
   ],
   "source": [
    "options = yaml.safe_load(open(\"options.yml\"))\n",
    "options"
   ]
  },
  {
   "cell_type": "markdown",
   "metadata": {},
   "source": [
    "# Simulation"
   ]
  },
  {
   "cell_type": "code",
   "execution_count": 144,
   "metadata": {},
   "outputs": [],
   "source": [
    "simulate = rp.get_simulate_func(model_spec, options)\n",
    "df = simulate(model_spec)"
   ]
  },
  {
   "cell_type": "code",
   "execution_count": 145,
   "metadata": {},
   "outputs": [
    {
     "data": {
      "text/html": [
       "<div>\n",
       "<style scoped>\n",
       "    .dataframe tbody tr th:only-of-type {\n",
       "        vertical-align: middle;\n",
       "    }\n",
       "\n",
       "    .dataframe tbody tr th {\n",
       "        vertical-align: top;\n",
       "    }\n",
       "\n",
       "    .dataframe thead th {\n",
       "        text-align: right;\n",
       "    }\n",
       "</style>\n",
       "<table border=\"1\" class=\"dataframe\">\n",
       "  <thead>\n",
       "    <tr style=\"text-align: right;\">\n",
       "      <th></th>\n",
       "      <th></th>\n",
       "      <th>Experience_Fishing</th>\n",
       "      <th>Lagged_Choice_1</th>\n",
       "      <th>Shock_Reward_Fishing</th>\n",
       "      <th>Meas_Error_Wage_Fishing</th>\n",
       "      <th>Shock_Reward_Hammock</th>\n",
       "      <th>Meas_Error_Wage_Hammock</th>\n",
       "      <th>Dense_Key</th>\n",
       "      <th>Core_Index</th>\n",
       "      <th>Choice</th>\n",
       "      <th>Wage</th>\n",
       "      <th>...</th>\n",
       "      <th>Nonpecuniary_Reward_Fishing</th>\n",
       "      <th>Wage_Fishing</th>\n",
       "      <th>Flow_Utility_Fishing</th>\n",
       "      <th>Value_Function_Fishing</th>\n",
       "      <th>Continuation_Value_Fishing</th>\n",
       "      <th>Nonpecuniary_Reward_Hammock</th>\n",
       "      <th>Wage_Hammock</th>\n",
       "      <th>Flow_Utility_Hammock</th>\n",
       "      <th>Value_Function_Hammock</th>\n",
       "      <th>Continuation_Value_Hammock</th>\n",
       "    </tr>\n",
       "    <tr>\n",
       "      <th>Identifier</th>\n",
       "      <th>Period</th>\n",
       "      <th></th>\n",
       "      <th></th>\n",
       "      <th></th>\n",
       "      <th></th>\n",
       "      <th></th>\n",
       "      <th></th>\n",
       "      <th></th>\n",
       "      <th></th>\n",
       "      <th></th>\n",
       "      <th></th>\n",
       "      <th></th>\n",
       "      <th></th>\n",
       "      <th></th>\n",
       "      <th></th>\n",
       "      <th></th>\n",
       "      <th></th>\n",
       "      <th></th>\n",
       "      <th></th>\n",
       "      <th></th>\n",
       "      <th></th>\n",
       "      <th></th>\n",
       "    </tr>\n",
       "  </thead>\n",
       "  <tbody>\n",
       "    <tr>\n",
       "      <th rowspan=\"10\" valign=\"top\">0</th>\n",
       "      <th>0</th>\n",
       "      <td>0</td>\n",
       "      <td>hammock</td>\n",
       "      <td>-0.035035</td>\n",
       "      <td>1</td>\n",
       "      <td>0.040965</td>\n",
       "      <td>1</td>\n",
       "      <td>0</td>\n",
       "      <td>1</td>\n",
       "      <td>fishing</td>\n",
       "      <td>0.965571</td>\n",
       "      <td>...</td>\n",
       "      <td>-1</td>\n",
       "      <td>0.965571</td>\n",
       "      <td>-0.034429</td>\n",
       "      <td>18.437158</td>\n",
       "      <td>19.443776</td>\n",
       "      <td>1.5</td>\n",
       "      <td>NaN</td>\n",
       "      <td>1.547145</td>\n",
       "      <td>18.418300</td>\n",
       "      <td>17.759111</td>\n",
       "    </tr>\n",
       "    <tr>\n",
       "      <th>1</th>\n",
       "      <td>1</td>\n",
       "      <td>fishing</td>\n",
       "      <td>0.074254</td>\n",
       "      <td>1</td>\n",
       "      <td>1.506491</td>\n",
       "      <td>1</td>\n",
       "      <td>1</td>\n",
       "      <td>0</td>\n",
       "      <td>hammock</td>\n",
       "      <td>NaN</td>\n",
       "      <td>...</td>\n",
       "      <td>-1</td>\n",
       "      <td>1.190358</td>\n",
       "      <td>0.190358</td>\n",
       "      <td>17.884091</td>\n",
       "      <td>18.624982</td>\n",
       "      <td>2.5</td>\n",
       "      <td>NaN</td>\n",
       "      <td>3.961203</td>\n",
       "      <td>20.077084</td>\n",
       "      <td>16.964086</td>\n",
       "    </tr>\n",
       "    <tr>\n",
       "      <th>2</th>\n",
       "      <td>1</td>\n",
       "      <td>hammock</td>\n",
       "      <td>-0.354560</td>\n",
       "      <td>1</td>\n",
       "      <td>1.185316</td>\n",
       "      <td>1</td>\n",
       "      <td>2</td>\n",
       "      <td>0</td>\n",
       "      <td>hammock</td>\n",
       "      <td>NaN</td>\n",
       "      <td>...</td>\n",
       "      <td>-1</td>\n",
       "      <td>0.775258</td>\n",
       "      <td>-0.224742</td>\n",
       "      <td>15.490120</td>\n",
       "      <td>16.541961</td>\n",
       "      <td>1.5</td>\n",
       "      <td>NaN</td>\n",
       "      <td>2.732280</td>\n",
       "      <td>16.981707</td>\n",
       "      <td>14.999397</td>\n",
       "    </tr>\n",
       "    <tr>\n",
       "      <th>3</th>\n",
       "      <td>1</td>\n",
       "      <td>hammock</td>\n",
       "      <td>-0.109397</td>\n",
       "      <td>1</td>\n",
       "      <td>-0.785877</td>\n",
       "      <td>1</td>\n",
       "      <td>3</td>\n",
       "      <td>1</td>\n",
       "      <td>fishing</td>\n",
       "      <td>0.990647</td>\n",
       "      <td>...</td>\n",
       "      <td>-1</td>\n",
       "      <td>0.990647</td>\n",
       "      <td>-0.009353</td>\n",
       "      <td>13.649385</td>\n",
       "      <td>14.377620</td>\n",
       "      <td>1.5</td>\n",
       "      <td>NaN</td>\n",
       "      <td>0.751880</td>\n",
       "      <td>13.082330</td>\n",
       "      <td>12.979421</td>\n",
       "    </tr>\n",
       "    <tr>\n",
       "      <th>4</th>\n",
       "      <td>2</td>\n",
       "      <td>fishing</td>\n",
       "      <td>-1.063705</td>\n",
       "      <td>1</td>\n",
       "      <td>1.245234</td>\n",
       "      <td>1</td>\n",
       "      <td>4</td>\n",
       "      <td>6</td>\n",
       "      <td>hammock</td>\n",
       "      <td>NaN</td>\n",
       "      <td>...</td>\n",
       "      <td>-1</td>\n",
       "      <td>0.421597</td>\n",
       "      <td>-0.578403</td>\n",
       "      <td>11.720312</td>\n",
       "      <td>12.946016</td>\n",
       "      <td>2.5</td>\n",
       "      <td>NaN</td>\n",
       "      <td>3.932816</td>\n",
       "      <td>14.969637</td>\n",
       "      <td>11.617706</td>\n",
       "    </tr>\n",
       "    <tr>\n",
       "      <th>5</th>\n",
       "      <td>2</td>\n",
       "      <td>hammock</td>\n",
       "      <td>-0.106235</td>\n",
       "      <td>1</td>\n",
       "      <td>-1.854834</td>\n",
       "      <td>1</td>\n",
       "      <td>5</td>\n",
       "      <td>1</td>\n",
       "      <td>fishing</td>\n",
       "      <td>1.098301</td>\n",
       "      <td>...</td>\n",
       "      <td>-1</td>\n",
       "      <td>1.098301</td>\n",
       "      <td>0.098301</td>\n",
       "      <td>10.162889</td>\n",
       "      <td>10.594303</td>\n",
       "      <td>1.5</td>\n",
       "      <td>NaN</td>\n",
       "      <td>-0.296111</td>\n",
       "      <td>8.632103</td>\n",
       "      <td>9.398120</td>\n",
       "    </tr>\n",
       "    <tr>\n",
       "      <th>6</th>\n",
       "      <td>3</td>\n",
       "      <td>fishing</td>\n",
       "      <td>-0.692603</td>\n",
       "      <td>1</td>\n",
       "      <td>-1.238533</td>\n",
       "      <td>1</td>\n",
       "      <td>6</td>\n",
       "      <td>10</td>\n",
       "      <td>hammock</td>\n",
       "      <td>NaN</td>\n",
       "      <td>...</td>\n",
       "      <td>-1</td>\n",
       "      <td>0.675297</td>\n",
       "      <td>-0.324703</td>\n",
       "      <td>7.793533</td>\n",
       "      <td>8.545512</td>\n",
       "      <td>2.5</td>\n",
       "      <td>NaN</td>\n",
       "      <td>1.425011</td>\n",
       "      <td>8.502014</td>\n",
       "      <td>7.449477</td>\n",
       "    </tr>\n",
       "    <tr>\n",
       "      <th>7</th>\n",
       "      <td>3</td>\n",
       "      <td>hammock</td>\n",
       "      <td>-0.555217</td>\n",
       "      <td>1</td>\n",
       "      <td>-0.542048</td>\n",
       "      <td>1</td>\n",
       "      <td>7</td>\n",
       "      <td>13</td>\n",
       "      <td>hammock</td>\n",
       "      <td>NaN</td>\n",
       "      <td>...</td>\n",
       "      <td>-1</td>\n",
       "      <td>0.774749</td>\n",
       "      <td>-0.225251</td>\n",
       "      <td>5.444983</td>\n",
       "      <td>5.968668</td>\n",
       "      <td>1.5</td>\n",
       "      <td>NaN</td>\n",
       "      <td>1.079947</td>\n",
       "      <td>5.863518</td>\n",
       "      <td>5.035338</td>\n",
       "    </tr>\n",
       "    <tr>\n",
       "      <th>8</th>\n",
       "      <td>3</td>\n",
       "      <td>hammock</td>\n",
       "      <td>-0.943424</td>\n",
       "      <td>1</td>\n",
       "      <td>-0.581919</td>\n",
       "      <td>1</td>\n",
       "      <td>8</td>\n",
       "      <td>1</td>\n",
       "      <td>hammock</td>\n",
       "      <td>NaN</td>\n",
       "      <td>...</td>\n",
       "      <td>-1</td>\n",
       "      <td>0.525490</td>\n",
       "      <td>-0.474510</td>\n",
       "      <td>2.622962</td>\n",
       "      <td>3.260497</td>\n",
       "      <td>1.5</td>\n",
       "      <td>NaN</td>\n",
       "      <td>1.118523</td>\n",
       "      <td>3.387056</td>\n",
       "      <td>2.387930</td>\n",
       "    </tr>\n",
       "    <tr>\n",
       "      <th>9</th>\n",
       "      <td>3</td>\n",
       "      <td>hammock</td>\n",
       "      <td>-1.541738</td>\n",
       "      <td>1</td>\n",
       "      <td>0.487632</td>\n",
       "      <td>1</td>\n",
       "      <td>9</td>\n",
       "      <td>3</td>\n",
       "      <td>hammock</td>\n",
       "      <td>NaN</td>\n",
       "      <td>...</td>\n",
       "      <td>-1</td>\n",
       "      <td>0.288882</td>\n",
       "      <td>-0.711118</td>\n",
       "      <td>-0.711118</td>\n",
       "      <td>0.000000</td>\n",
       "      <td>1.5</td>\n",
       "      <td>NaN</td>\n",
       "      <td>2.286128</td>\n",
       "      <td>2.286128</td>\n",
       "      <td>0.000000</td>\n",
       "    </tr>\n",
       "  </tbody>\n",
       "</table>\n",
       "<p>10 rows × 22 columns</p>\n",
       "</div>"
      ],
      "text/plain": [
       "                   Experience_Fishing Lagged_Choice_1  Shock_Reward_Fishing  \\\n",
       "Identifier Period                                                             \n",
       "0          0                        0         hammock             -0.035035   \n",
       "           1                        1         fishing              0.074254   \n",
       "           2                        1         hammock             -0.354560   \n",
       "           3                        1         hammock             -0.109397   \n",
       "           4                        2         fishing             -1.063705   \n",
       "           5                        2         hammock             -0.106235   \n",
       "           6                        3         fishing             -0.692603   \n",
       "           7                        3         hammock             -0.555217   \n",
       "           8                        3         hammock             -0.943424   \n",
       "           9                        3         hammock             -1.541738   \n",
       "\n",
       "                   Meas_Error_Wage_Fishing  Shock_Reward_Hammock  \\\n",
       "Identifier Period                                                  \n",
       "0          0                             1              0.040965   \n",
       "           1                             1              1.506491   \n",
       "           2                             1              1.185316   \n",
       "           3                             1             -0.785877   \n",
       "           4                             1              1.245234   \n",
       "           5                             1             -1.854834   \n",
       "           6                             1             -1.238533   \n",
       "           7                             1             -0.542048   \n",
       "           8                             1             -0.581919   \n",
       "           9                             1              0.487632   \n",
       "\n",
       "                   Meas_Error_Wage_Hammock  Dense_Key  Core_Index   Choice  \\\n",
       "Identifier Period                                                            \n",
       "0          0                             1          0           1  fishing   \n",
       "           1                             1          1           0  hammock   \n",
       "           2                             1          2           0  hammock   \n",
       "           3                             1          3           1  fishing   \n",
       "           4                             1          4           6  hammock   \n",
       "           5                             1          5           1  fishing   \n",
       "           6                             1          6          10  hammock   \n",
       "           7                             1          7          13  hammock   \n",
       "           8                             1          8           1  hammock   \n",
       "           9                             1          9           3  hammock   \n",
       "\n",
       "                       Wage  ...  Nonpecuniary_Reward_Fishing  Wage_Fishing  \\\n",
       "Identifier Period            ...                                              \n",
       "0          0       0.965571  ...                           -1      0.965571   \n",
       "           1            NaN  ...                           -1      1.190358   \n",
       "           2            NaN  ...                           -1      0.775258   \n",
       "           3       0.990647  ...                           -1      0.990647   \n",
       "           4            NaN  ...                           -1      0.421597   \n",
       "           5       1.098301  ...                           -1      1.098301   \n",
       "           6            NaN  ...                           -1      0.675297   \n",
       "           7            NaN  ...                           -1      0.774749   \n",
       "           8            NaN  ...                           -1      0.525490   \n",
       "           9            NaN  ...                           -1      0.288882   \n",
       "\n",
       "                   Flow_Utility_Fishing  Value_Function_Fishing  \\\n",
       "Identifier Period                                                 \n",
       "0          0                  -0.034429               18.437158   \n",
       "           1                   0.190358               17.884091   \n",
       "           2                  -0.224742               15.490120   \n",
       "           3                  -0.009353               13.649385   \n",
       "           4                  -0.578403               11.720312   \n",
       "           5                   0.098301               10.162889   \n",
       "           6                  -0.324703                7.793533   \n",
       "           7                  -0.225251                5.444983   \n",
       "           8                  -0.474510                2.622962   \n",
       "           9                  -0.711118               -0.711118   \n",
       "\n",
       "                   Continuation_Value_Fishing  Nonpecuniary_Reward_Hammock  \\\n",
       "Identifier Period                                                            \n",
       "0          0                        19.443776                          1.5   \n",
       "           1                        18.624982                          2.5   \n",
       "           2                        16.541961                          1.5   \n",
       "           3                        14.377620                          1.5   \n",
       "           4                        12.946016                          2.5   \n",
       "           5                        10.594303                          1.5   \n",
       "           6                         8.545512                          2.5   \n",
       "           7                         5.968668                          1.5   \n",
       "           8                         3.260497                          1.5   \n",
       "           9                         0.000000                          1.5   \n",
       "\n",
       "                   Wage_Hammock  Flow_Utility_Hammock  Value_Function_Hammock  \\\n",
       "Identifier Period                                                               \n",
       "0          0                NaN              1.547145               18.418300   \n",
       "           1                NaN              3.961203               20.077084   \n",
       "           2                NaN              2.732280               16.981707   \n",
       "           3                NaN              0.751880               13.082330   \n",
       "           4                NaN              3.932816               14.969637   \n",
       "           5                NaN             -0.296111                8.632103   \n",
       "           6                NaN              1.425011                8.502014   \n",
       "           7                NaN              1.079947                5.863518   \n",
       "           8                NaN              1.118523                3.387056   \n",
       "           9                NaN              2.286128                2.286128   \n",
       "\n",
       "                   Continuation_Value_Hammock  \n",
       "Identifier Period                              \n",
       "0          0                        17.759111  \n",
       "           1                        16.964086  \n",
       "           2                        14.999397  \n",
       "           3                        12.979421  \n",
       "           4                        11.617706  \n",
       "           5                         9.398120  \n",
       "           6                         7.449477  \n",
       "           7                         5.035338  \n",
       "           8                         2.387930  \n",
       "           9                         0.000000  \n",
       "\n",
       "[10 rows x 22 columns]"
      ]
     },
     "execution_count": 145,
     "metadata": {},
     "output_type": "execute_result"
    }
   ],
   "source": [
    "df.head(10)"
   ]
  },
  {
   "cell_type": "code",
   "execution_count": 146,
   "metadata": {},
   "outputs": [
    {
     "data": {
      "image/png": "[encoded data removed]",
      "text/plain": [
       "<Figure size 864x486 with 1 Axes>"
      ]
     },
     "metadata": {
      "needs_background": "light"
     },
     "output_type": "display_data"
    }
   ],
   "source": [
    "fig, ax = plt.subplots()\n",
    "\n",
    "df.groupby(\"Period\").Choice.value_counts(normalize=True).unstack().plot.bar(\n",
    "    stacked=True, ax=ax\n",
    ")\n",
    "\n",
    "plt.xticks(rotation=\"horizontal\")\n",
    "\n",
    "plt.legend(loc=\"lower center\", bbox_to_anchor=(0.5, -0.275), ncol=2)\n",
    "\n",
    "plt.show()\n",
    "plt.close()"
   ]
  },
  {
   "cell_type": "code",
   "execution_count": 131,
   "metadata": {},
   "outputs": [
    {
     "data": {
      "text/plain": [
       "<AxesSubplot:xlabel='Choice', ylabel='Lagged_Choice_1'>"
      ]
     },
     "execution_count": 131,
     "metadata": {},
     "output_type": "execute_result"
    },
    {
     "data": {
      "image/png": "[encoded data removed]",
      "text/plain": [
       "<Figure size 864x486 with 2 Axes>"
      ]
     },
     "metadata": {
      "needs_background": "light"
     },
     "output_type": "display_data"
    }
   ],
   "source": [
    "data = pd.crosstab(df.Lagged_Choice_1, df.Choice, normalize=True)\n",
    "sns.heatmap(data, cmap=\"Blues\", annot=True)"
   ]
  },
  {
   "cell_type": "code",
   "execution_count": 79,
   "metadata": {},
   "outputs": [],
   "source": [
    "def plot_choice_probabilities_and_experience_level(df, friday=False):\n",
    "    \n",
    "    if friday:\n",
    "        label = [\"Fishing\",\"Friday\", \"Hammock\"]\n",
    "        colors =[\"C0\", \"C2\", \"C1\"]\n",
    "    else:\n",
    "        label = [\"Fishing\", \"Hammock\"]\n",
    "        colors =[\"C0\", \"C1\"]\n",
    "\n",
    "    fig, axs = plt.subplots(1, 2, figsize=(14, 5))\n",
    "        \n",
    "    (\n",
    "        df.groupby(\"Period\")\n",
    "        .Choice.value_counts(normalize=True)\n",
    "        .unstack()\n",
    "        .plot.bar(ax=axs[0], color = colors, stacked=True, rot=0, title=\"Choice Probabilities\")\n",
    "    )\n",
    "\n",
    "    (\n",
    "        df.groupby(\"Period\")\n",
    "        .Experience_Fishing.value_counts(normalize=True)\n",
    "        .unstack()\n",
    "        .plot.bar(\n",
    "            ax=axs[1],\n",
    "            stacked=True,\n",
    "            rot=0,\n",
    "            title=\"Share of Experience Level per Period\",\n",
    "            cmap=\"Blues\",\n",
    "        )\n",
    "    )\n",
    "    \n",
    "    \n",
    "    axs[0].legend(\n",
    "       label , loc=\"upper center\", bbox_to_anchor=(0.5, -0.2), ncol=2\n",
    "    )\n",
    "    axs[1].legend(loc=\"right\", bbox_to_anchor=(1.3, 0.5), ncol=1, title=\"Experience\")\n",
    "\n",
    "    plt.show()"
   ]
  },
  {
   "cell_type": "code",
   "execution_count": 80,
   "metadata": {},
   "outputs": [
    {
     "data": {
      "image/png": "[encoded data removed]",
      "text/plain": [
       "<Figure size 1008x360 with 2 Axes>"
      ]
     },
     "metadata": {
      "needs_background": "light"
     },
     "output_type": "display_data"
    }
   ],
   "source": [
    "plot_choice_probabilities_and_experience_level(df)"
   ]
  },
  {
   "cell_type": "markdown",
   "metadata": {},
   "source": [
    "# Extensions\n",
    "\n",
    "As already stated in the introduction, one of the main advantages of respy is that the package is flexible regarding the model structure. We will illustrate this by extending the previously introduced model framework in three different ways.\n",
    "\n",
    "## Increasing the choice set\n",
    "\n",
    "> At some point Crusoe notices that a group of cannibals occasionally visits the island and celebrate one of their dark rituals. But then, a prisoner can escape and becomes Crusoe's new friend Friday whom he teaches English. In return Friday can share his knowledge once to help Robinson improve his fishing skills, but that is only possible after Robinson tried at least once to go fishing.\n",
    "\n",
    "A common extension to structural models is to increase the choice set. Here, we want to add another choice called `\"friday\"` which affects the utility of fishing. The choice should be available once, starting with the third period, and only after Robinson has been fishing before.\n",
    "\n",
    "\n"
   ]
  },
  {
   "cell_type": "code",
   "execution_count": 81,
   "metadata": {},
   "outputs": [],
   "source": [
    "model_spec_ext_choice, options_ext_choice = rp.get_example_model(\"robinson_crusoe_extended\", with_data=False)"
   ]
  },
  {
   "cell_type": "code",
   "execution_count": 82,
   "metadata": {},
   "outputs": [
    {
     "data": {
      "text/html": [
       "<div>\n",
       "<style scoped>\n",
       "    .dataframe tbody tr th:only-of-type {\n",
       "        vertical-align: middle;\n",
       "    }\n",
       "\n",
       "    .dataframe tbody tr th {\n",
       "        vertical-align: top;\n",
       "    }\n",
       "\n",
       "    .dataframe thead th {\n",
       "        text-align: right;\n",
       "    }\n",
       "</style>\n",
       "<table border=\"1\" class=\"dataframe\">\n",
       "  <thead>\n",
       "    <tr style=\"text-align: right;\">\n",
       "      <th></th>\n",
       "      <th></th>\n",
       "      <th>value</th>\n",
       "    </tr>\n",
       "    <tr>\n",
       "      <th>category</th>\n",
       "      <th>name</th>\n",
       "      <th></th>\n",
       "    </tr>\n",
       "  </thead>\n",
       "  <tbody>\n",
       "    <tr>\n",
       "      <th>delta</th>\n",
       "      <th>delta</th>\n",
       "      <td>0.95</td>\n",
       "    </tr>\n",
       "    <tr>\n",
       "      <th rowspan=\"2\" valign=\"top\">wage_fishing</th>\n",
       "      <th>exp_fishing</th>\n",
       "      <td>0.10</td>\n",
       "    </tr>\n",
       "    <tr>\n",
       "      <th>contemplation_with_friday</th>\n",
       "      <td>0.40</td>\n",
       "    </tr>\n",
       "    <tr>\n",
       "      <th>nonpec_fishing</th>\n",
       "      <th>constant</th>\n",
       "      <td>-1.00</td>\n",
       "    </tr>\n",
       "    <tr>\n",
       "      <th rowspan=\"2\" valign=\"top\">nonpec_friday</th>\n",
       "      <th>constant</th>\n",
       "      <td>-1.00</td>\n",
       "    </tr>\n",
       "    <tr>\n",
       "      <th>not_fishing_last_period</th>\n",
       "      <td>-1.00</td>\n",
       "    </tr>\n",
       "    <tr>\n",
       "      <th rowspan=\"2\" valign=\"top\">nonpec_hammock</th>\n",
       "      <th>constant</th>\n",
       "      <td>2.50</td>\n",
       "    </tr>\n",
       "    <tr>\n",
       "      <th>not_fishing_last_period</th>\n",
       "      <td>-1.00</td>\n",
       "    </tr>\n",
       "    <tr>\n",
       "      <th rowspan=\"6\" valign=\"top\">shocks_sdcorr</th>\n",
       "      <th>sd_fishing</th>\n",
       "      <td>1.00</td>\n",
       "    </tr>\n",
       "    <tr>\n",
       "      <th>sd_friday</th>\n",
       "      <td>1.00</td>\n",
       "    </tr>\n",
       "    <tr>\n",
       "      <th>sd_hammock</th>\n",
       "      <td>1.00</td>\n",
       "    </tr>\n",
       "    <tr>\n",
       "      <th>corr_friday_fishing</th>\n",
       "      <td>0.00</td>\n",
       "    </tr>\n",
       "    <tr>\n",
       "      <th>corr_hammock_fishing</th>\n",
       "      <td>0.00</td>\n",
       "    </tr>\n",
       "    <tr>\n",
       "      <th>corr_hammock_friday</th>\n",
       "      <td>0.00</td>\n",
       "    </tr>\n",
       "    <tr>\n",
       "      <th>lagged_choice_1_hammock</th>\n",
       "      <th>constant</th>\n",
       "      <td>1.00</td>\n",
       "    </tr>\n",
       "  </tbody>\n",
       "</table>\n",
       "</div>"
      ],
      "text/plain": [
       "                                                   value\n",
       "category                name                            \n",
       "delta                   delta                       0.95\n",
       "wage_fishing            exp_fishing                 0.10\n",
       "                        contemplation_with_friday   0.40\n",
       "nonpec_fishing          constant                   -1.00\n",
       "nonpec_friday           constant                   -1.00\n",
       "                        not_fishing_last_period    -1.00\n",
       "nonpec_hammock          constant                    2.50\n",
       "                        not_fishing_last_period    -1.00\n",
       "shocks_sdcorr           sd_fishing                  1.00\n",
       "                        sd_friday                   1.00\n",
       "                        sd_hammock                  1.00\n",
       "                        corr_friday_fishing         0.00\n",
       "                        corr_hammock_fishing        0.00\n",
       "                        corr_hammock_friday         0.00\n",
       "lagged_choice_1_hammock constant                    1.00"
      ]
     },
     "execution_count": 82,
     "metadata": {},
     "output_type": "execute_result"
    }
   ],
   "source": [
    "model_spec_ext_choice"
   ]
  },
  {
   "cell_type": "code",
   "execution_count": 119,
   "metadata": {},
   "outputs": [
    {
     "data": {
      "text/html": [
       "<div>\n",
       "<style scoped>\n",
       "    .dataframe tbody tr th:only-of-type {\n",
       "        vertical-align: middle;\n",
       "    }\n",
       "\n",
       "    .dataframe tbody tr th {\n",
       "        vertical-align: top;\n",
       "    }\n",
       "\n",
       "    .dataframe thead th {\n",
       "        text-align: right;\n",
       "    }\n",
       "</style>\n",
       "<table border=\"1\" class=\"dataframe\">\n",
       "  <thead>\n",
       "    <tr style=\"text-align: right;\">\n",
       "      <th></th>\n",
       "      <th></th>\n",
       "      <th>value</th>\n",
       "    </tr>\n",
       "    <tr>\n",
       "      <th>category</th>\n",
       "      <th>name</th>\n",
       "      <th></th>\n",
       "    </tr>\n",
       "  </thead>\n",
       "  <tbody>\n",
       "    <tr>\n",
       "      <th>delta</th>\n",
       "      <th>delta</th>\n",
       "      <td>0.95</td>\n",
       "    </tr>\n",
       "    <tr>\n",
       "      <th>wage_fishing</th>\n",
       "      <th>exp_fishing</th>\n",
       "      <td>0.30</td>\n",
       "    </tr>\n",
       "    <tr>\n",
       "      <th>nonpec_fishing</th>\n",
       "      <th>constant</th>\n",
       "      <td>-0.20</td>\n",
       "    </tr>\n",
       "    <tr>\n",
       "      <th>nonpec_hammock</th>\n",
       "      <th>constant</th>\n",
       "      <td>2.00</td>\n",
       "    </tr>\n",
       "    <tr>\n",
       "      <th rowspan=\"3\" valign=\"top\">shocks_sdcorr</th>\n",
       "      <th>sd_fishing</th>\n",
       "      <td>0.50</td>\n",
       "    </tr>\n",
       "    <tr>\n",
       "      <th>sd_hammock</th>\n",
       "      <td>0.50</td>\n",
       "    </tr>\n",
       "    <tr>\n",
       "      <th>corr_hammock_fishing</th>\n",
       "      <td>0.00</td>\n",
       "    </tr>\n",
       "  </tbody>\n",
       "</table>\n",
       "</div>"
      ],
      "text/plain": [
       "                                     value\n",
       "category       name                       \n",
       "delta          delta                  0.95\n",
       "wage_fishing   exp_fishing            0.30\n",
       "nonpec_fishing constant              -0.20\n",
       "nonpec_hammock constant               2.00\n",
       "shocks_sdcorr  sd_fishing             0.50\n",
       "               sd_hammock             0.50\n",
       "               corr_hammock_fishing   0.00"
      ]
     },
     "execution_count": 119,
     "metadata": {},
     "output_type": "execute_result"
    }
   ],
   "source": []
  },
  {
   "cell_type": "markdown",
   "metadata": {},
   "source": [
    "Turning to the `options`, we can see that the new covariate `\"contemplation_with_friday\"` is only affecting utility if Robinson is experienced in fishing and only for one interaction with friday. This naturally limits the interaction with Friday. The key `\"negative_choice_set\"` can be used to restrict the choice Friday to the third and following periods. The first key matches a choice. The value of the key can be a list of strings. If the string evaluates to `True`, a utility penalty ensures that individuals will never choose the corresponding states. "
   ]
  },
  {
   "cell_type": "code",
   "execution_count": 83,
   "metadata": {},
   "outputs": [
    {
     "data": {
      "text/plain": [
       "{'n_periods': 10,\n",
       " 'estimation_draws': 200,\n",
       " 'estimation_seed': 500,\n",
       " 'estimation_tau': 0.001,\n",
       " 'interpolation_points': -1,\n",
       " 'simulation_agents': 1000,\n",
       " 'simulation_seed': 132,\n",
       " 'solution_draws': 500,\n",
       " 'solution_seed': 456,\n",
       " 'covariates': {'constant': '1',\n",
       "  'contemplation_with_friday': 'exp_friday == 1 and exp_fishing >= 1',\n",
       "  'not_fishing_last_period': \"lagged_choice_1 != 'fishing'\"},\n",
       " 'negative_choice_set': {'friday': ['period < 2', 'exp_fishing == 0']},\n",
       " 'core_state_space_filters': [\"period > 0 and exp_fishing + exp_friday == period and lagged_choice_1 == 'hammock'\",\n",
       "  'period <= 2 and exp_friday != 0',\n",
       "  'period >= 3 and period - exp_friday < 2',\n",
       "  'exp_friday > 0 and exp_fishing == 0',\n",
       "  \"exp_friday > 0 and exp_fishing == 1 and lagged_choice_1 == 'fishing'\",\n",
       "  \"period - exp_friday == 2 and lagged_choice_1 != 'friday' and period > 2\",\n",
       "  \"exp_{choices_w_exp} == 0 and lagged_choice_1 == '{choices_w_exp}'\"]}"
      ]
     },
     "execution_count": 83,
     "metadata": {},
     "output_type": "execute_result"
    }
   ],
   "source": [
    "options_ext_choice"
   ]
  },
  {
   "cell_type": "markdown",
   "metadata": {},
   "source": [
    "Next we conduct a new simulation based on our altered model specifications."
   ]
  },
  {
   "cell_type": "code",
   "execution_count": 84,
   "metadata": {},
   "outputs": [],
   "source": [
    "simulate = rp.get_simulate_func(model_spec_ext_choice, options_ext_choice)\n",
    "df_friday = simulate(model_spec_ext_choice)"
   ]
  },
  {
   "cell_type": "code",
   "execution_count": 85,
   "metadata": {},
   "outputs": [
    {
     "data": {
      "image/png": "[encoded data removed]",
      "text/plain": [
       "<Figure size 864x486 with 1 Axes>"
      ]
     },
     "metadata": {
      "needs_background": "light"
     },
     "output_type": "display_data"
    }
   ],
   "source": [
    "fig, ax = plt.subplots()\n",
    "\n",
    "df_friday.groupby(\"Period\").Choice.value_counts(normalize=True).unstack().plot.bar(\n",
    "    stacked=True, ax=ax, color=[\"C0\", \"C2\", \"C1\"],\n",
    ")\n",
    "\n",
    "plt.xticks(rotation=\"horizontal\")\n",
    "\n",
    "plt.legend(loc=\"lower center\", bbox_to_anchor=(0.5,-0.275), ncol=3)\n",
    "\n",
    "plt.show()\n",
    "plt.close()"
   ]
  },
  {
   "cell_type": "markdown",
   "metadata": {},
   "source": [
    "## Experience "
   ]
  },
  {
   "cell_type": "code",
   "execution_count": 107,
   "metadata": {},
   "outputs": [],
   "source": [
    "model_spec, options = rp.get_example_model(\"robinson_crusoe_basic\", with_data=False)"
   ]
  },
  {
   "cell_type": "code",
   "execution_count": 108,
   "metadata": {},
   "outputs": [],
   "source": [
    "model_spec_exp = model_spec.copy()\n",
    "model_spec_exp.loc[(\"initial_exp_fishing_0\", \"probability\"), \"value\"] = 0.33\n",
    "model_spec_exp.loc[(\"initial_exp_fishing_1\", \"probability\"), \"value\"] = 0.33\n",
    "model_spec_exp.loc[(\"initial_exp_fishing_2\", \"probability\"), \"value\"] = 0.34"
   ]
  },
  {
   "cell_type": "code",
   "execution_count": 109,
   "metadata": {},
   "outputs": [
    {
     "data": {
      "text/html": [
       "<div>\n",
       "<style scoped>\n",
       "    .dataframe tbody tr th:only-of-type {\n",
       "        vertical-align: middle;\n",
       "    }\n",
       "\n",
       "    .dataframe tbody tr th {\n",
       "        vertical-align: top;\n",
       "    }\n",
       "\n",
       "    .dataframe thead th {\n",
       "        text-align: right;\n",
       "    }\n",
       "</style>\n",
       "<table border=\"1\" class=\"dataframe\">\n",
       "  <thead>\n",
       "    <tr style=\"text-align: right;\">\n",
       "      <th></th>\n",
       "      <th></th>\n",
       "      <th>value</th>\n",
       "    </tr>\n",
       "    <tr>\n",
       "      <th>category</th>\n",
       "      <th>name</th>\n",
       "      <th></th>\n",
       "    </tr>\n",
       "  </thead>\n",
       "  <tbody>\n",
       "    <tr>\n",
       "      <th>delta</th>\n",
       "      <th>delta</th>\n",
       "      <td>0.95</td>\n",
       "    </tr>\n",
       "    <tr>\n",
       "      <th>wage_fishing</th>\n",
       "      <th>exp_fishing</th>\n",
       "      <td>0.30</td>\n",
       "    </tr>\n",
       "    <tr>\n",
       "      <th>nonpec_fishing</th>\n",
       "      <th>constant</th>\n",
       "      <td>-0.20</td>\n",
       "    </tr>\n",
       "    <tr>\n",
       "      <th>nonpec_hammock</th>\n",
       "      <th>constant</th>\n",
       "      <td>2.00</td>\n",
       "    </tr>\n",
       "    <tr>\n",
       "      <th rowspan=\"3\" valign=\"top\">shocks_sdcorr</th>\n",
       "      <th>sd_fishing</th>\n",
       "      <td>0.50</td>\n",
       "    </tr>\n",
       "    <tr>\n",
       "      <th>sd_hammock</th>\n",
       "      <td>0.50</td>\n",
       "    </tr>\n",
       "    <tr>\n",
       "      <th>corr_hammock_fishing</th>\n",
       "      <td>0.00</td>\n",
       "    </tr>\n",
       "    <tr>\n",
       "      <th>initial_exp_fishing_0</th>\n",
       "      <th>probability</th>\n",
       "      <td>0.33</td>\n",
       "    </tr>\n",
       "    <tr>\n",
       "      <th>initial_exp_fishing_1</th>\n",
       "      <th>probability</th>\n",
       "      <td>0.33</td>\n",
       "    </tr>\n",
       "    <tr>\n",
       "      <th>initial_exp_fishing_2</th>\n",
       "      <th>probability</th>\n",
       "      <td>0.34</td>\n",
       "    </tr>\n",
       "  </tbody>\n",
       "</table>\n",
       "</div>"
      ],
      "text/plain": [
       "                                            value\n",
       "category              name                       \n",
       "delta                 delta                  0.95\n",
       "wage_fishing          exp_fishing            0.30\n",
       "nonpec_fishing        constant              -0.20\n",
       "nonpec_hammock        constant               2.00\n",
       "shocks_sdcorr         sd_fishing             0.50\n",
       "                      sd_hammock             0.50\n",
       "                      corr_hammock_fishing   0.00\n",
       "initial_exp_fishing_0 probability            0.33\n",
       "initial_exp_fishing_1 probability            0.33\n",
       "initial_exp_fishing_2 probability            0.34"
      ]
     },
     "execution_count": 109,
     "metadata": {},
     "output_type": "execute_result"
    }
   ],
   "source": [
    "model_spec_exp"
   ]
  },
  {
   "cell_type": "code",
   "execution_count": 111,
   "metadata": {},
   "outputs": [],
   "source": [
    "simulate = rp.get_simulate_func(model_spec_exp, options)\n",
    "df_exp = simulate(model_spec_exp)\n",
    "\n",
    "simulate = rp.get_simulate_func(model_spec, options)\n",
    "df_ = simulate(model_spec)"
   ]
  },
  {
   "cell_type": "code",
   "execution_count": 112,
   "metadata": {},
   "outputs": [
    {
     "data": {
      "image/png": "[encoded data removed]",
      "text/plain": [
       "<Figure size 1008x360 with 2 Axes>"
      ]
     },
     "metadata": {
      "needs_background": "light"
     },
     "output_type": "display_data"
    }
   ],
   "source": [
    "plot_choice_probabilities_and_experience_level(df)"
   ]
  },
  {
   "cell_type": "code",
   "execution_count": 113,
   "metadata": {},
   "outputs": [
    {
     "data": {
      "image/png": "[encoded data removed]",
      "text/plain": [
       "<Figure size 1008x360 with 2 Axes>"
      ]
     },
     "metadata": {
      "needs_background": "light"
     },
     "output_type": "display_data"
    }
   ],
   "source": [
    "plot_choice_probabilities_and_experience_level(df_exp)"
   ]
  },
  {
   "cell_type": "markdown",
   "metadata": {},
   "source": [
    "## Observables"
   ]
  },
  {
   "cell_type": "markdown",
   "metadata": {},
   "source": [
    "Next add one observable characteristic to the baseline model, `\"Fishing_Grounds\"`: Now Robinson can end up, with a certain probability, on the side of the island which has `\"poor\"` or `\"rich\"` fishing grounds. Experiencing rich fishing grounds affects the **non-pecuniary reward** for fishing: \n",
    "\n",
    "$$\\begin{align}\n",
    "N^f = \\alpha^f + \\zeta^f \\unicode{x1D7D9}_{\\{FG = \"rich\"\\}} \\\\\n",
    "\\end{align}$$\n",
    "\n",
    "The indicator function $\\unicode{x1D7D9}_{\\{condition\\}}$ takes value 1 when the condition is true and value 0 otherwise: Therefore, if Robinson finds himself in rich fishing grounds, his total non-pecuniary rewards from fishing will be equal to $\\alpha^f + \\zeta^f$. "
   ]
  },
  {
   "cell_type": "code",
   "execution_count": null,
   "metadata": {},
   "outputs": [],
   "source": []
  }
 ],
 "metadata": {
  "kernelspec": {
   "display_name": "Python 3",
   "language": "python",
   "name": "python3"
  },
  "language_info": {
   "codemirror_mode": {
    "name": "ipython",
    "version": 3
   },
   "file_extension": ".py",
   "mimetype": "text/x-python",
   "name": "python",
   "nbconvert_exporter": "python",
   "pygments_lexer": "ipython3",
   "version": "3.8.5"
  }
 },
 "nbformat": 4,
 "nbformat_minor": 4
}
