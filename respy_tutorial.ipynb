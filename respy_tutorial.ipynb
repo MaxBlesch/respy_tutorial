{
 "cells": [
  {
   "cell_type": "markdown",
   "metadata": {},
   "source": [
    "<div class=\"alert alert-block alert-info\">\n",
    "    <img style=\"float: right;\" src=\"https://raw.githubusercontent.com/OpenSourceEconomics/ose-corporate-design/master/logos/OSE_logo_RGB.svg\" width=\"150\">\n",
    "    <u><h1>Respy Tutorial Lecture</h1></u>\n",
    "</div>"
   ]
  },
  {
   "cell_type": "markdown",
   "metadata": {},
   "source": [
    "### What is respy?\n",
    "\n",
    "respy is an open source framework written in Python for the simulation and estimation of some finite-horizon discrete choice dynamic programming models. The group of models which can be currently represented in respy are called Eckstein-Keane-Wolpin models (Aguirregabiria and Mira (2010)).\n",
    "\n",
    "### Why should I use the package?\n",
    "\n",
    "What makes respy powerful is that it allows to build and solve structural models in weeks or months whose development previously took years. The design of respy allows the researcher to flexibly add the following components to her model.\n",
    "\n",
    "### What should I expect from this presentation?\n",
    "\n",
    "The upcoming tutorial provides an example on how you can utilize respy to set up your own model. For this purpose we showcase the implementation of a Robinson Crusoe economy as a discrete choice dynamic programming model.\n",
    "\n",
    "### Why do you use a toy model if your package is \n",
    "\n",
    "Just to be clear, don't misinterpret the fact that we explain respy using such a simplistic model. respy is not a toy and can just as well solve state-of-the-art structural models. It's just easier to explain respy and its features in a situation where we don't have to explain a complicated model at the same time.\n",
    "\n"
   ]
  },
  {
   "cell_type": "markdown",
   "metadata": {},
   "source": [
    "<div class=\"alert alert-block alert-info\">\n",
    "    <u><h2>Preliminaries</h2></u>\n",
    "</div>"
   ]
  },
  {
   "cell_type": "code",
   "execution_count": 1,
   "metadata": {},
   "outputs": [],
   "source": [
    "import yaml\n",
    "import numpy as np\n",
    "import pandas as pd\n",
    "import respy as rp\n",
    "import seaborn as sns\n",
    "import matplotlib.pyplot as plt\n",
    "\n",
    "from pathlib import Path\n",
    "from auxiliary.auxiliary import plot_choice_prob, plot_choice_prob_and_exp_level, plot_choice_shares\n",
    "\n",
    "plt.style.use(\"plot_config/respy.mplstyle\")"
   ]
  },
  {
   "cell_type": "markdown",
   "metadata": {},
   "source": [
    "<div class=\"alert alert-block alert-info\">\n",
    "    <u><h2>A simple model: Robinson Crusoe</h2></u>\n",
    "</div>"
   ]
  },
  {
   "cell_type": "markdown",
   "metadata": {},
   "source": [
    "## Model outline\n",
    "> After setting sail against his parents' wishes, being captured by pirates, escaping from them, building a plantation, and setting sail again to capture slaves in Africa, [Robinson Crusoe](https://en.wikipedia.org/wiki/Robinson_Crusoe) stranded on a small island. He is alone with one dog, two cats, and only some supplies. He goes fishing to make ends meet and if he is too tired he will relax in his hammock. But, he cannot relax to often as storing food is a difficult task on a tropical island.\n",
    "\n",
    "\n",
    "- Robinson chooses every period $t = 0, \\dots, T - 1$ to either go fishing, $a = 0$, or spend the day in the hammock, $a = 1$.\n",
    "\n",
    "- The utility of a choice, $U(s_t, a_t)$, depends on the state $s_t$, which contains information on the individual's characteristics, and the chosen alternative $a_t$.\n",
    "\n",
    "- For working alternatives like fishing utility consists of two components, a wage and a non-pecuniary component:\n",
    "\n",
    "$$\n",
    "    U(s_t, a_t) = \\underbrace{W(s_t, a_t)}_{wage} + \\underbrace{N(s_t, a_t)}_{non-pecuniary}\n",
    "$$\n",
    "\n",
    "- For non-working alternatives like the hammock, $W(s_t, 1) = 0$. Otherwise the wage is defined as\n",
    "$$\\begin{align}\n",
    "    \\\\\n",
    "    \\\\\n",
    "        W(s_t, 0) &= r_a \\exp\\{x^w_{at} \\beta^w_a + \\epsilon_{at}\\}\\\\\n",
    "        \\\\\n",
    "    \\ln(W(s_t, 0)) &= \\ln(r_a) + x^w_{at} \\beta^w_a + \\epsilon_{at}\\\\\n",
    "    \\\\\n",
    "\\end{align}$$\n",
    "\n",
    "    * $r_a$ is normally a market rental price for the skill units generated in the exponential expression. Another interpretation is that $ln(r_a)$ is simply the constant in the skill units.    \n",
    "    * $x^w_{at}$ and $\\beta^w_a$ are the choice- and time-dependent covariates and parameters related to the wage signaled by superscript $w$. \n",
    "    * $\\epsilon_{at}$ is a choice-specific random shock from the shock vector $\\epsilon_t \\sim \\mathcal{N}(0, \\Sigma)$ for all choices. Shocks are usually correlated across choices in one period, but are independent across periods.\n",
    "\n",
    "\n",
    "- The non-pecuniary rewards for working alternatives are a vector dot product of covariates $x_t^w$ and parameters $\\beta^w$. The superscript $w$ signals that the components belong to working alternatives.\n",
    "\n",
    "$$\n",
    "    N^w(s_t, a_t) = x_t^w\\beta^w\n",
    "$$\n",
    "\n",
    "- If Robinson chooses to go fishing, he gains one additional unit of experience in the next period. Experience starts at zero and goes over 1, 2, 3 up to $T - 1$.\n",
    "\n",
    "\n",
    "- General assumption: Robinson is forward-looking and maximizes the expected present value of utility over the remaining lifetime. W.l.o.g. $t = 0$ and let $V(s_0)$ define the value of the maximization which is achieved by a sequence of choices, $\\{a_t\\}^T_{t = 0}$, such that every action is in the choice set, $a_t \\in C(s_t)$ and $s_{t + 1}$ adheres to the law of motion. Then, the expected present value of lifetime utility in state $s_0$ is\n",
    "\n",
    "$$\n",
    "    V(s_0) = \\text{E} \\max_{\\{a_t\\}^T_{t = 0}} \\left[\n",
    "        \\sum^T_{t = 0} \\delta^t U(s_t, a_t) \\, \\Big|\n",
    "        \\, a_t \\in C(s_t), s_{t+1} = m(s_t, a_t)\n",
    "    \\right]\n",
    "$$\n",
    "\n",
    "- Note that the shocks in period $t = 0$ are not stochastic. Thus, one can extract the utility in the current period $U(s_0, a_0)$, also called the flow utility, and the discount factor $\\delta$ from the expectation. Then, the formula can be rewritten so that the second term becomes the maximum over alternative-specific value functions at time $t = 1$ which are also called continuation values.\n",
    "\n",
    "$$\\begin{align}\n",
    "    V(s_0) &= \\max_{a_0} \\, U(s_0, a_0) + \\delta \\text{E} \\max_{\\{a_t\\}^T_{t = 1}}\n",
    "              \\left[\n",
    "                  \\sum^T_{t = 1} \\delta^{t - 1} U(s_t, a_t) \\, \\Big|\n",
    "                  \\, a_t \\in C(s_t), s_{t + 1} = m(s_t, a_t)\n",
    "              \\right] \\\\\n",
    "           &= \\max_{a_0} \\, \\underbrace{U(s_0, a_0)}_{\\text{float utility}}\n",
    "              + \\delta \\underbrace{\\text{E} \\max_{a_1} V_{a_1}(s_1)}_{\\text{continuation value}}\n",
    "\\end{align}$$\n",
    "\n",
    "-The maximum over alternative-specific value functions can be rewritten as the value function of state $s_1$ or $V(s_1) = \\max_{a_1} V_{a_1}(s_1)$ which yields the famous Bellman equation. Due to the recursive nature of the problem, the alternative-specific value functions are defined as\n",
    "\n",
    "$$\\begin{equation}\n",
    "    V_a(s_t) = \\begin{cases}\n",
    "        U(s_t, a_t) + \\delta \\text{E} V(s_{t+1}) & \\text{if } t < T \\\\\n",
    "        U(s_t, a_t) & \\text{if } t = T\n",
    "    \\end{cases}\n",
    "\\end{equation}$$\n",
    "\n",
    "-The former equation shows that the shocks in period $t + 1$ are unknown to the individual in period $t$. Thus, utility must be maximized given the joint distribution of shocks in period $t + 1$ which is a maximization problem over a two-dimensional integral. Denote the non-stochastic part of a state as $s^-$. Then, Robinson maximizes\n",
    "\n",
    "$$\\begin{equation}\n",
    "    V(s_t) = \\max_{a_t}\\{\n",
    "        U(s_t, a_t) + \\delta \\int_{\\epsilon_{0, t + 1}} \\dots \\int_{\\epsilon_{2, t + 1}}\n",
    "        \\max_{a_{t + 1}} V_{a_{t + 1}}(s^-_{t + 1}, \\epsilon_{t + 1})\n",
    "        f_\\epsilon(\\epsilon_{t + 1})\n",
    "        d_{\\epsilon_{0, t + 1}} \\dots d_{\\epsilon_{2, t + 1}}\n",
    "    \\}\n",
    "\\end{equation}$$"
   ]
  },
  {
   "cell_type": "markdown",
   "metadata": {},
   "source": [
    "## Specifying the model\n",
    "\n",
    "Next we have to provide respy with the specifications of our model. For this purpose we create two objects that we will feed to the package.\n"
   ]
  },
  {
   "cell_type": "code",
   "execution_count": 2,
   "metadata": {},
   "outputs": [
    {
     "data": {
      "text/html": [
       "<div>\n",
       "<style scoped>\n",
       "    .dataframe tbody tr th:only-of-type {\n",
       "        vertical-align: middle;\n",
       "    }\n",
       "\n",
       "    .dataframe tbody tr th {\n",
       "        vertical-align: top;\n",
       "    }\n",
       "\n",
       "    .dataframe thead th {\n",
       "        text-align: right;\n",
       "    }\n",
       "</style>\n",
       "<table border=\"1\" class=\"dataframe\">\n",
       "  <thead>\n",
       "    <tr style=\"text-align: right;\">\n",
       "      <th></th>\n",
       "      <th></th>\n",
       "      <th>value</th>\n",
       "    </tr>\n",
       "    <tr>\n",
       "      <th>category</th>\n",
       "      <th>name</th>\n",
       "      <th></th>\n",
       "    </tr>\n",
       "  </thead>\n",
       "  <tbody>\n",
       "    <tr>\n",
       "      <th>delta</th>\n",
       "      <th>delta</th>\n",
       "      <td>0.95</td>\n",
       "    </tr>\n",
       "    <tr>\n",
       "      <th>wage_fishing</th>\n",
       "      <th>exp_fishing</th>\n",
       "      <td>0.15</td>\n",
       "    </tr>\n",
       "    <tr>\n",
       "      <th>nonpec_fishing</th>\n",
       "      <th>constant</th>\n",
       "      <td>-1.00</td>\n",
       "    </tr>\n",
       "    <tr>\n",
       "      <th rowspan=\"2\" valign=\"top\">nonpec_hammock</th>\n",
       "      <th>constant</th>\n",
       "      <td>2.50</td>\n",
       "    </tr>\n",
       "    <tr>\n",
       "      <th>not_fishing_last_period</th>\n",
       "      <td>-1.00</td>\n",
       "    </tr>\n",
       "    <tr>\n",
       "      <th rowspan=\"3\" valign=\"top\">shocks_sdcorr</th>\n",
       "      <th>sd_fishing</th>\n",
       "      <td>0.50</td>\n",
       "    </tr>\n",
       "    <tr>\n",
       "      <th>sd_hammock</th>\n",
       "      <td>0.50</td>\n",
       "    </tr>\n",
       "    <tr>\n",
       "      <th>corr_hammock_fishing</th>\n",
       "      <td>0.00</td>\n",
       "    </tr>\n",
       "    <tr>\n",
       "      <th>lagged_choice_1_hammock</th>\n",
       "      <th>constant</th>\n",
       "      <td>1.00</td>\n",
       "    </tr>\n",
       "  </tbody>\n",
       "</table>\n",
       "</div>"
      ],
      "text/plain": [
       "                                                 value\n",
       "category                name                          \n",
       "delta                   delta                     0.95\n",
       "wage_fishing            exp_fishing               0.15\n",
       "nonpec_fishing          constant                 -1.00\n",
       "nonpec_hammock          constant                  2.50\n",
       "                        not_fishing_last_period  -1.00\n",
       "shocks_sdcorr           sd_fishing                0.50\n",
       "                        sd_hammock                0.50\n",
       "                        corr_hammock_fishing      0.00\n",
       "lagged_choice_1_hammock constant                  1.00"
      ]
     },
     "execution_count": 2,
     "metadata": {},
     "output_type": "execute_result"
    }
   ],
   "source": [
    "params_basic = pd.read_csv(\"params_files/robinson_crusoe_basic.csv\", index_col=[\"category\", \"name\"])\n",
    "params_basic"
   ]
  },
  {
   "cell_type": "markdown",
   "metadata": {},
   "source": [
    "The `params` object is complemented with `options` which contains additional information. \n"
   ]
  },
  {
   "cell_type": "code",
   "execution_count": 3,
   "metadata": {},
   "outputs": [
    {
     "data": {
      "text/plain": [
       "{'n_periods': 10,\n",
       " 'simulation_agents': 1000,\n",
       " 'simulation_seed': 1323,\n",
       " 'covariates': {'constant': '1',\n",
       "  'not_fishing_last_period': \"lagged_choice_1 != 'fishing'\"}}"
      ]
     },
     "execution_count": 3,
     "metadata": {},
     "output_type": "execute_result"
    }
   ],
   "source": [
    "options_basic = yaml.safe_load(open(\"option_files/options_basic.yml\"))\n",
    "options_basic"
   ]
  },
  {
   "cell_type": "markdown",
   "metadata": {},
   "source": [
    "## Simulating the model\n",
    "\n",
    "We are now ready to simulate the model."
   ]
  },
  {
   "cell_type": "code",
   "execution_count": 4,
   "metadata": {},
   "outputs": [],
   "source": [
    "simulate = rp.get_simulate_func(params_basic, options_basic)\n",
    "df_basic = simulate(params_basic)"
   ]
  },
  {
   "cell_type": "code",
   "execution_count": 5,
   "metadata": {},
   "outputs": [
    {
     "data": {
      "text/html": [
       "<div>\n",
       "<style scoped>\n",
       "    .dataframe tbody tr th:only-of-type {\n",
       "        vertical-align: middle;\n",
       "    }\n",
       "\n",
       "    .dataframe tbody tr th {\n",
       "        vertical-align: top;\n",
       "    }\n",
       "\n",
       "    .dataframe thead th {\n",
       "        text-align: right;\n",
       "    }\n",
       "</style>\n",
       "<table border=\"1\" class=\"dataframe\">\n",
       "  <thead>\n",
       "    <tr style=\"text-align: right;\">\n",
       "      <th></th>\n",
       "      <th></th>\n",
       "      <th>Experience_Fishing</th>\n",
       "      <th>Lagged_Choice_1</th>\n",
       "      <th>Shock_Reward_Fishing</th>\n",
       "      <th>Meas_Error_Wage_Fishing</th>\n",
       "      <th>Shock_Reward_Hammock</th>\n",
       "      <th>Meas_Error_Wage_Hammock</th>\n",
       "      <th>Dense_Key</th>\n",
       "      <th>Core_Index</th>\n",
       "      <th>Choice</th>\n",
       "      <th>Wage</th>\n",
       "      <th>...</th>\n",
       "      <th>Nonpecuniary_Reward_Fishing</th>\n",
       "      <th>Wage_Fishing</th>\n",
       "      <th>Flow_Utility_Fishing</th>\n",
       "      <th>Value_Function_Fishing</th>\n",
       "      <th>Continuation_Value_Fishing</th>\n",
       "      <th>Nonpecuniary_Reward_Hammock</th>\n",
       "      <th>Wage_Hammock</th>\n",
       "      <th>Flow_Utility_Hammock</th>\n",
       "      <th>Value_Function_Hammock</th>\n",
       "      <th>Continuation_Value_Hammock</th>\n",
       "    </tr>\n",
       "    <tr>\n",
       "      <th>Identifier</th>\n",
       "      <th>Period</th>\n",
       "      <th></th>\n",
       "      <th></th>\n",
       "      <th></th>\n",
       "      <th></th>\n",
       "      <th></th>\n",
       "      <th></th>\n",
       "      <th></th>\n",
       "      <th></th>\n",
       "      <th></th>\n",
       "      <th></th>\n",
       "      <th></th>\n",
       "      <th></th>\n",
       "      <th></th>\n",
       "      <th></th>\n",
       "      <th></th>\n",
       "      <th></th>\n",
       "      <th></th>\n",
       "      <th></th>\n",
       "      <th></th>\n",
       "      <th></th>\n",
       "      <th></th>\n",
       "    </tr>\n",
       "  </thead>\n",
       "  <tbody>\n",
       "    <tr>\n",
       "      <th rowspan=\"10\" valign=\"top\">0</th>\n",
       "      <th>0</th>\n",
       "      <td>0</td>\n",
       "      <td>hammock</td>\n",
       "      <td>0.820712</td>\n",
       "      <td>1</td>\n",
       "      <td>-1.710178</td>\n",
       "      <td>1</td>\n",
       "      <td>0</td>\n",
       "      <td>1</td>\n",
       "      <td>fishing</td>\n",
       "      <td>1.507354</td>\n",
       "      <td>...</td>\n",
       "      <td>-1</td>\n",
       "      <td>1.507354</td>\n",
       "      <td>0.507354</td>\n",
       "      <td>13.787587</td>\n",
       "      <td>13.979193</td>\n",
       "      <td>1.5</td>\n",
       "      <td>NaN</td>\n",
       "      <td>0.644911</td>\n",
       "      <td>12.465850</td>\n",
       "      <td>12.443093</td>\n",
       "    </tr>\n",
       "    <tr>\n",
       "      <th>1</th>\n",
       "      <td>1</td>\n",
       "      <td>fishing</td>\n",
       "      <td>0.797960</td>\n",
       "      <td>1</td>\n",
       "      <td>0.585223</td>\n",
       "      <td>1</td>\n",
       "      <td>1</td>\n",
       "      <td>0</td>\n",
       "      <td>hammock</td>\n",
       "      <td>NaN</td>\n",
       "      <td>...</td>\n",
       "      <td>-1</td>\n",
       "      <td>1.731486</td>\n",
       "      <td>0.731486</td>\n",
       "      <td>13.613580</td>\n",
       "      <td>13.560100</td>\n",
       "      <td>2.5</td>\n",
       "      <td>NaN</td>\n",
       "      <td>2.792612</td>\n",
       "      <td>14.135567</td>\n",
       "      <td>11.939954</td>\n",
       "    </tr>\n",
       "    <tr>\n",
       "      <th>2</th>\n",
       "      <td>1</td>\n",
       "      <td>hammock</td>\n",
       "      <td>0.006137</td>\n",
       "      <td>1</td>\n",
       "      <td>-1.065115</td>\n",
       "      <td>1</td>\n",
       "      <td>2</td>\n",
       "      <td>0</td>\n",
       "      <td>fishing</td>\n",
       "      <td>1.165405</td>\n",
       "      <td>...</td>\n",
       "      <td>-1</td>\n",
       "      <td>1.165405</td>\n",
       "      <td>0.165405</td>\n",
       "      <td>11.560440</td>\n",
       "      <td>11.994774</td>\n",
       "      <td>1.5</td>\n",
       "      <td>NaN</td>\n",
       "      <td>0.967442</td>\n",
       "      <td>10.984129</td>\n",
       "      <td>10.543881</td>\n",
       "    </tr>\n",
       "    <tr>\n",
       "      <th>3</th>\n",
       "      <td>2</td>\n",
       "      <td>fishing</td>\n",
       "      <td>0.342000</td>\n",
       "      <td>1</td>\n",
       "      <td>-0.060883</td>\n",
       "      <td>1</td>\n",
       "      <td>3</td>\n",
       "      <td>4</td>\n",
       "      <td>hammock</td>\n",
       "      <td>NaN</td>\n",
       "      <td>...</td>\n",
       "      <td>-1</td>\n",
       "      <td>1.601595</td>\n",
       "      <td>0.601595</td>\n",
       "      <td>11.306698</td>\n",
       "      <td>11.268529</td>\n",
       "      <td>2.5</td>\n",
       "      <td>NaN</td>\n",
       "      <td>2.469559</td>\n",
       "      <td>11.782835</td>\n",
       "      <td>9.803449</td>\n",
       "    </tr>\n",
       "    <tr>\n",
       "      <th>4</th>\n",
       "      <td>2</td>\n",
       "      <td>hammock</td>\n",
       "      <td>-0.817412</td>\n",
       "      <td>1</td>\n",
       "      <td>-0.812382</td>\n",
       "      <td>1</td>\n",
       "      <td>4</td>\n",
       "      <td>2</td>\n",
       "      <td>fishing</td>\n",
       "      <td>0.896994</td>\n",
       "      <td>...</td>\n",
       "      <td>-1</td>\n",
       "      <td>0.896994</td>\n",
       "      <td>-0.103006</td>\n",
       "      <td>8.933591</td>\n",
       "      <td>9.512207</td>\n",
       "      <td>1.5</td>\n",
       "      <td>NaN</td>\n",
       "      <td>1.093809</td>\n",
       "      <td>8.905503</td>\n",
       "      <td>8.222836</td>\n",
       "    </tr>\n",
       "    <tr>\n",
       "      <th>5</th>\n",
       "      <td>3</td>\n",
       "      <td>fishing</td>\n",
       "      <td>0.088770</td>\n",
       "      <td>1</td>\n",
       "      <td>-2.073206</td>\n",
       "      <td>1</td>\n",
       "      <td>5</td>\n",
       "      <td>7</td>\n",
       "      <td>fishing</td>\n",
       "      <td>1.639490</td>\n",
       "      <td>...</td>\n",
       "      <td>-1</td>\n",
       "      <td>1.639490</td>\n",
       "      <td>0.639490</td>\n",
       "      <td>8.620181</td>\n",
       "      <td>8.400728</td>\n",
       "      <td>2.5</td>\n",
       "      <td>NaN</td>\n",
       "      <td>1.463397</td>\n",
       "      <td>8.269047</td>\n",
       "      <td>7.163841</td>\n",
       "    </tr>\n",
       "    <tr>\n",
       "      <th>6</th>\n",
       "      <td>4</td>\n",
       "      <td>fishing</td>\n",
       "      <td>0.038157</td>\n",
       "      <td>1</td>\n",
       "      <td>-0.914505</td>\n",
       "      <td>1</td>\n",
       "      <td>6</td>\n",
       "      <td>11</td>\n",
       "      <td>hammock</td>\n",
       "      <td>NaN</td>\n",
       "      <td>...</td>\n",
       "      <td>-1</td>\n",
       "      <td>1.857215</td>\n",
       "      <td>0.857215</td>\n",
       "      <td>7.499822</td>\n",
       "      <td>6.992217</td>\n",
       "      <td>2.5</td>\n",
       "      <td>NaN</td>\n",
       "      <td>2.042747</td>\n",
       "      <td>7.589471</td>\n",
       "      <td>5.838656</td>\n",
       "    </tr>\n",
       "    <tr>\n",
       "      <th>7</th>\n",
       "      <td>4</td>\n",
       "      <td>hammock</td>\n",
       "      <td>-1.705825</td>\n",
       "      <td>1</td>\n",
       "      <td>0.982573</td>\n",
       "      <td>1</td>\n",
       "      <td>7</td>\n",
       "      <td>12</td>\n",
       "      <td>hammock</td>\n",
       "      <td>NaN</td>\n",
       "      <td>...</td>\n",
       "      <td>-1</td>\n",
       "      <td>0.776536</td>\n",
       "      <td>-0.223464</td>\n",
       "      <td>4.333390</td>\n",
       "      <td>4.796689</td>\n",
       "      <td>1.5</td>\n",
       "      <td>NaN</td>\n",
       "      <td>1.991286</td>\n",
       "      <td>5.689046</td>\n",
       "      <td>3.892379</td>\n",
       "    </tr>\n",
       "    <tr>\n",
       "      <th>8</th>\n",
       "      <td>4</td>\n",
       "      <td>hammock</td>\n",
       "      <td>-0.083566</td>\n",
       "      <td>1</td>\n",
       "      <td>-0.057721</td>\n",
       "      <td>1</td>\n",
       "      <td>8</td>\n",
       "      <td>0</td>\n",
       "      <td>fishing</td>\n",
       "      <td>1.747554</td>\n",
       "      <td>...</td>\n",
       "      <td>-1</td>\n",
       "      <td>1.747554</td>\n",
       "      <td>0.747554</td>\n",
       "      <td>3.316273</td>\n",
       "      <td>2.703915</td>\n",
       "      <td>1.5</td>\n",
       "      <td>NaN</td>\n",
       "      <td>1.471140</td>\n",
       "      <td>3.178797</td>\n",
       "      <td>1.797534</td>\n",
       "    </tr>\n",
       "    <tr>\n",
       "      <th>9</th>\n",
       "      <td>5</td>\n",
       "      <td>fishing</td>\n",
       "      <td>0.359250</td>\n",
       "      <td>1</td>\n",
       "      <td>0.259021</td>\n",
       "      <td>1</td>\n",
       "      <td>9</td>\n",
       "      <td>12</td>\n",
       "      <td>hammock</td>\n",
       "      <td>NaN</td>\n",
       "      <td>...</td>\n",
       "      <td>-1</td>\n",
       "      <td>2.533559</td>\n",
       "      <td>1.533559</td>\n",
       "      <td>1.533559</td>\n",
       "      <td>0.000000</td>\n",
       "      <td>2.5</td>\n",
       "      <td>NaN</td>\n",
       "      <td>2.629511</td>\n",
       "      <td>2.629511</td>\n",
       "      <td>0.000000</td>\n",
       "    </tr>\n",
       "  </tbody>\n",
       "</table>\n",
       "<p>10 rows × 22 columns</p>\n",
       "</div>"
      ],
      "text/plain": [
       "                   Experience_Fishing Lagged_Choice_1  Shock_Reward_Fishing  \\\n",
       "Identifier Period                                                             \n",
       "0          0                        0         hammock              0.820712   \n",
       "           1                        1         fishing              0.797960   \n",
       "           2                        1         hammock              0.006137   \n",
       "           3                        2         fishing              0.342000   \n",
       "           4                        2         hammock             -0.817412   \n",
       "           5                        3         fishing              0.088770   \n",
       "           6                        4         fishing              0.038157   \n",
       "           7                        4         hammock             -1.705825   \n",
       "           8                        4         hammock             -0.083566   \n",
       "           9                        5         fishing              0.359250   \n",
       "\n",
       "                   Meas_Error_Wage_Fishing  Shock_Reward_Hammock  \\\n",
       "Identifier Period                                                  \n",
       "0          0                             1             -1.710178   \n",
       "           1                             1              0.585223   \n",
       "           2                             1             -1.065115   \n",
       "           3                             1             -0.060883   \n",
       "           4                             1             -0.812382   \n",
       "           5                             1             -2.073206   \n",
       "           6                             1             -0.914505   \n",
       "           7                             1              0.982573   \n",
       "           8                             1             -0.057721   \n",
       "           9                             1              0.259021   \n",
       "\n",
       "                   Meas_Error_Wage_Hammock  Dense_Key  Core_Index   Choice  \\\n",
       "Identifier Period                                                            \n",
       "0          0                             1          0           1  fishing   \n",
       "           1                             1          1           0  hammock   \n",
       "           2                             1          2           0  fishing   \n",
       "           3                             1          3           4  hammock   \n",
       "           4                             1          4           2  fishing   \n",
       "           5                             1          5           7  fishing   \n",
       "           6                             1          6          11  hammock   \n",
       "           7                             1          7          12  hammock   \n",
       "           8                             1          8           0  fishing   \n",
       "           9                             1          9          12  hammock   \n",
       "\n",
       "                       Wage  ...  Nonpecuniary_Reward_Fishing  Wage_Fishing  \\\n",
       "Identifier Period            ...                                              \n",
       "0          0       1.507354  ...                           -1      1.507354   \n",
       "           1            NaN  ...                           -1      1.731486   \n",
       "           2       1.165405  ...                           -1      1.165405   \n",
       "           3            NaN  ...                           -1      1.601595   \n",
       "           4       0.896994  ...                           -1      0.896994   \n",
       "           5       1.639490  ...                           -1      1.639490   \n",
       "           6            NaN  ...                           -1      1.857215   \n",
       "           7            NaN  ...                           -1      0.776536   \n",
       "           8       1.747554  ...                           -1      1.747554   \n",
       "           9            NaN  ...                           -1      2.533559   \n",
       "\n",
       "                   Flow_Utility_Fishing  Value_Function_Fishing  \\\n",
       "Identifier Period                                                 \n",
       "0          0                   0.507354               13.787587   \n",
       "           1                   0.731486               13.613580   \n",
       "           2                   0.165405               11.560440   \n",
       "           3                   0.601595               11.306698   \n",
       "           4                  -0.103006                8.933591   \n",
       "           5                   0.639490                8.620181   \n",
       "           6                   0.857215                7.499822   \n",
       "           7                  -0.223464                4.333390   \n",
       "           8                   0.747554                3.316273   \n",
       "           9                   1.533559                1.533559   \n",
       "\n",
       "                   Continuation_Value_Fishing  Nonpecuniary_Reward_Hammock  \\\n",
       "Identifier Period                                                            \n",
       "0          0                        13.979193                          1.5   \n",
       "           1                        13.560100                          2.5   \n",
       "           2                        11.994774                          1.5   \n",
       "           3                        11.268529                          2.5   \n",
       "           4                         9.512207                          1.5   \n",
       "           5                         8.400728                          2.5   \n",
       "           6                         6.992217                          2.5   \n",
       "           7                         4.796689                          1.5   \n",
       "           8                         2.703915                          1.5   \n",
       "           9                         0.000000                          2.5   \n",
       "\n",
       "                   Wage_Hammock  Flow_Utility_Hammock  Value_Function_Hammock  \\\n",
       "Identifier Period                                                               \n",
       "0          0                NaN              0.644911               12.465850   \n",
       "           1                NaN              2.792612               14.135567   \n",
       "           2                NaN              0.967442               10.984129   \n",
       "           3                NaN              2.469559               11.782835   \n",
       "           4                NaN              1.093809                8.905503   \n",
       "           5                NaN              1.463397                8.269047   \n",
       "           6                NaN              2.042747                7.589471   \n",
       "           7                NaN              1.991286                5.689046   \n",
       "           8                NaN              1.471140                3.178797   \n",
       "           9                NaN              2.629511                2.629511   \n",
       "\n",
       "                   Continuation_Value_Hammock  \n",
       "Identifier Period                              \n",
       "0          0                        12.443093  \n",
       "           1                        11.939954  \n",
       "           2                        10.543881  \n",
       "           3                         9.803449  \n",
       "           4                         8.222836  \n",
       "           5                         7.163841  \n",
       "           6                         5.838656  \n",
       "           7                         3.892379  \n",
       "           8                         1.797534  \n",
       "           9                         0.000000  \n",
       "\n",
       "[10 rows x 22 columns]"
      ]
     },
     "execution_count": 5,
     "metadata": {},
     "output_type": "execute_result"
    }
   ],
   "source": [
    "df_basic.head(10)"
   ]
  },
  {
   "cell_type": "code",
   "execution_count": 6,
   "metadata": {},
   "outputs": [
    {
     "data": {
      "image/png": "[encoded data removed]",
      "text/plain": [
       "<Figure size 864x486 with 1 Axes>"
      ]
     },
     "metadata": {
      "needs_background": "light"
     },
     "output_type": "display_data"
    }
   ],
   "source": [
    "plot_choice_shares(df_basic)"
   ]
  },
  {
   "cell_type": "code",
   "execution_count": 7,
   "metadata": {},
   "outputs": [
    {
     "data": {
      "text/plain": [
       "<AxesSubplot:xlabel='Choice', ylabel='Lagged_Choice_1'>"
      ]
     },
     "execution_count": 7,
     "metadata": {},
     "output_type": "execute_result"
    },
    {
     "data": {
      "image/png": "[encoded data removed]",
      "text/plain": [
       "<Figure size 864x486 with 2 Axes>"
      ]
     },
     "metadata": {
      "needs_background": "light"
     },
     "output_type": "display_data"
    }
   ],
   "source": [
    "data = pd.crosstab(df_basic.Lagged_Choice_1, df_basic.Choice, normalize=True)\n",
    "sns.heatmap(data, cmap=\"Blues\", annot=True)"
   ]
  },
  {
   "cell_type": "markdown",
   "metadata": {},
   "source": [
    "<div class=\"alert alert-block alert-info\">\n",
    "    <u><h2>Extending Robinson Crusoe</h2></u>\n",
    "</div>"
   ]
  },
  {
   "cell_type": "markdown",
   "metadata": {},
   "source": [
    "As already stated in the introduction, one of the main advantages of respy is that the package is flexible regarding the model structure. We will illustrate this by extending the previously introduced model framework in several different ways."
   ]
  },
  {
   "cell_type": "markdown",
   "metadata": {},
   "source": [
    "## Covariates\n",
    "\n",
    "Next we want to add another covariate. As before we concentrate on a simple example, but this can be extended in any direction. The simplest covariate is the constant. We also had before the covariate not fishing last period. We saw in the examples above.\n",
    "\n",
    "A covariate in respy allows to specify advanced return structures to each choice. First, we need to define the covariate in the option file. In a second step, we specify the return for the choice for this covariate."
   ]
  },
  {
   "cell_type": "code",
   "execution_count": 54,
   "metadata": {},
   "outputs": [
    {
     "data": {
      "text/html": [
       "<div>\n",
       "<style scoped>\n",
       "    .dataframe tbody tr th:only-of-type {\n",
       "        vertical-align: middle;\n",
       "    }\n",
       "\n",
       "    .dataframe tbody tr th {\n",
       "        vertical-align: top;\n",
       "    }\n",
       "\n",
       "    .dataframe thead th {\n",
       "        text-align: right;\n",
       "    }\n",
       "</style>\n",
       "<table border=\"1\" class=\"dataframe\">\n",
       "  <thead>\n",
       "    <tr style=\"text-align: right;\">\n",
       "      <th></th>\n",
       "      <th></th>\n",
       "      <th>value</th>\n",
       "    </tr>\n",
       "    <tr>\n",
       "      <th>category</th>\n",
       "      <th>name</th>\n",
       "      <th></th>\n",
       "    </tr>\n",
       "  </thead>\n",
       "  <tbody>\n",
       "    <tr>\n",
       "      <th>delta</th>\n",
       "      <th>delta</th>\n",
       "      <td>0.950</td>\n",
       "    </tr>\n",
       "    <tr>\n",
       "      <th rowspan=\"2\" valign=\"top\">wage_fishing</th>\n",
       "      <th>exp_fishing</th>\n",
       "      <td>0.150</td>\n",
       "    </tr>\n",
       "    <tr>\n",
       "      <th>age</th>\n",
       "      <td>-0.015</td>\n",
       "    </tr>\n",
       "    <tr>\n",
       "      <th>nonpec_fishing</th>\n",
       "      <th>constant</th>\n",
       "      <td>-1.000</td>\n",
       "    </tr>\n",
       "    <tr>\n",
       "      <th rowspan=\"2\" valign=\"top\">nonpec_hammock</th>\n",
       "      <th>constant</th>\n",
       "      <td>2.500</td>\n",
       "    </tr>\n",
       "    <tr>\n",
       "      <th>not_fishing_last_period</th>\n",
       "      <td>-1.000</td>\n",
       "    </tr>\n",
       "    <tr>\n",
       "      <th rowspan=\"3\" valign=\"top\">shocks_sdcorr</th>\n",
       "      <th>sd_fishing</th>\n",
       "      <td>0.500</td>\n",
       "    </tr>\n",
       "    <tr>\n",
       "      <th>sd_hammock</th>\n",
       "      <td>0.500</td>\n",
       "    </tr>\n",
       "    <tr>\n",
       "      <th>corr_hammock_fishing</th>\n",
       "      <td>0.000</td>\n",
       "    </tr>\n",
       "    <tr>\n",
       "      <th>lagged_choice_1_hammock</th>\n",
       "      <th>constant</th>\n",
       "      <td>1.000</td>\n",
       "    </tr>\n",
       "  </tbody>\n",
       "</table>\n",
       "</div>"
      ],
      "text/plain": [
       "                                                 value\n",
       "category                name                          \n",
       "delta                   delta                    0.950\n",
       "wage_fishing            exp_fishing              0.150\n",
       "                        age                     -0.015\n",
       "nonpec_fishing          constant                -1.000\n",
       "nonpec_hammock          constant                 2.500\n",
       "                        not_fishing_last_period -1.000\n",
       "shocks_sdcorr           sd_fishing               0.500\n",
       "                        sd_hammock               0.500\n",
       "                        corr_hammock_fishing     0.000\n",
       "lagged_choice_1_hammock constant                 1.000"
      ]
     },
     "execution_count": 54,
     "metadata": {},
     "output_type": "execute_result"
    }
   ],
   "source": [
    "params_age = pd.read_csv(\"params_files/robinson_crusoe_age.csv\", index_col=[\"category\", \"name\"])\n",
    "params_age"
   ]
  },
  {
   "cell_type": "code",
   "execution_count": 26,
   "metadata": {},
   "outputs": [
    {
     "data": {
      "text/plain": [
       "{'n_periods': 10,\n",
       " 'simulation_agents': 1000,\n",
       " 'simulation_seed': 132,\n",
       " 'covariates': {'constant': '1',\n",
       "  'not_fishing_last_period': \"lagged_choice_1 != 'fishing'\",\n",
       "  'age': 'period + 16'}}"
      ]
     },
     "execution_count": 26,
     "metadata": {},
     "output_type": "execute_result"
    }
   ],
   "source": [
    "options_age = yaml.safe_load(open(\"option_files/options_age.yml\"))\n",
    "options_age"
   ]
  },
  {
   "cell_type": "code",
   "execution_count": 52,
   "metadata": {},
   "outputs": [],
   "source": [
    "simulate = rp.get_simulate_func(params_age, options_age)\n",
    "df_age = simulate(params_age)"
   ]
  },
  {
   "cell_type": "code",
   "execution_count": 53,
   "metadata": {},
   "outputs": [
    {
     "data": {
      "image/png": "[encoded data removed]",
      "text/plain": [
       "<Figure size 864x486 with 1 Axes>"
      ]
     },
     "metadata": {
      "needs_background": "light"
     },
     "output_type": "display_data"
    }
   ],
   "source": [
    "plot_choice_shares(df_age)"
   ]
  },
  {
   "cell_type": "markdown",
   "metadata": {},
   "source": [
    "## Altering the choice set\n",
    "\n",
    "> At some point Crusoe notices that a group of cannibals occasionally visits the island and celebrate one of their dark rituals. But then, a prisoner can escape and becomes Crusoe's new friend Friday whom he teaches English. In return Friday can share his knowledge once to help Robinson improve his fishing skills, but that is only possible after Robinson tried at least once to go fishing.\n",
    "\n",
    "A common extension to structural models is to increase the choice set. Here, we want to add another choice called `\"friday\"` which affects the utility of fishing. The choice should be available once, starting with the third period, and only after Robinson has been fishing before.\n",
    "\n",
    "\n"
   ]
  },
  {
   "cell_type": "code",
   "execution_count": 59,
   "metadata": {},
   "outputs": [
    {
     "data": {
      "text/html": [
       "<div>\n",
       "<style scoped>\n",
       "    .dataframe tbody tr th:only-of-type {\n",
       "        vertical-align: middle;\n",
       "    }\n",
       "\n",
       "    .dataframe tbody tr th {\n",
       "        vertical-align: top;\n",
       "    }\n",
       "\n",
       "    .dataframe thead th {\n",
       "        text-align: right;\n",
       "    }\n",
       "</style>\n",
       "<table border=\"1\" class=\"dataframe\">\n",
       "  <thead>\n",
       "    <tr style=\"text-align: right;\">\n",
       "      <th></th>\n",
       "      <th></th>\n",
       "      <th>value</th>\n",
       "    </tr>\n",
       "    <tr>\n",
       "      <th>category</th>\n",
       "      <th>name</th>\n",
       "      <th></th>\n",
       "    </tr>\n",
       "  </thead>\n",
       "  <tbody>\n",
       "    <tr>\n",
       "      <th>delta</th>\n",
       "      <th>delta</th>\n",
       "      <td>0.95</td>\n",
       "    </tr>\n",
       "    <tr>\n",
       "      <th rowspan=\"2\" valign=\"top\">wage_fishing</th>\n",
       "      <th>exp_fishing</th>\n",
       "      <td>0.10</td>\n",
       "    </tr>\n",
       "    <tr>\n",
       "      <th>contemplation_with_friday</th>\n",
       "      <td>0.40</td>\n",
       "    </tr>\n",
       "    <tr>\n",
       "      <th>nonpec_fishing</th>\n",
       "      <th>constant</th>\n",
       "      <td>-1.00</td>\n",
       "    </tr>\n",
       "    <tr>\n",
       "      <th rowspan=\"2\" valign=\"top\">nonpec_friday</th>\n",
       "      <th>constant</th>\n",
       "      <td>-1.00</td>\n",
       "    </tr>\n",
       "    <tr>\n",
       "      <th>not_fishing_last_period</th>\n",
       "      <td>-1.00</td>\n",
       "    </tr>\n",
       "    <tr>\n",
       "      <th rowspan=\"2\" valign=\"top\">nonpec_hammock</th>\n",
       "      <th>constant</th>\n",
       "      <td>2.50</td>\n",
       "    </tr>\n",
       "    <tr>\n",
       "      <th>not_fishing_last_period</th>\n",
       "      <td>-1.00</td>\n",
       "    </tr>\n",
       "    <tr>\n",
       "      <th rowspan=\"6\" valign=\"top\">shocks_sdcorr</th>\n",
       "      <th>sd_fishing</th>\n",
       "      <td>1.00</td>\n",
       "    </tr>\n",
       "    <tr>\n",
       "      <th>sd_friday</th>\n",
       "      <td>1.00</td>\n",
       "    </tr>\n",
       "    <tr>\n",
       "      <th>sd_hammock</th>\n",
       "      <td>1.00</td>\n",
       "    </tr>\n",
       "    <tr>\n",
       "      <th>corr_friday_fishing</th>\n",
       "      <td>0.00</td>\n",
       "    </tr>\n",
       "    <tr>\n",
       "      <th>corr_hammock_fishing</th>\n",
       "      <td>0.00</td>\n",
       "    </tr>\n",
       "    <tr>\n",
       "      <th>corr_hammock_friday</th>\n",
       "      <td>0.00</td>\n",
       "    </tr>\n",
       "    <tr>\n",
       "      <th>lagged_choice_1_hammock</th>\n",
       "      <th>constant</th>\n",
       "      <td>1.00</td>\n",
       "    </tr>\n",
       "  </tbody>\n",
       "</table>\n",
       "</div>"
      ],
      "text/plain": [
       "                                                   value\n",
       "category                name                            \n",
       "delta                   delta                       0.95\n",
       "wage_fishing            exp_fishing                 0.10\n",
       "                        contemplation_with_friday   0.40\n",
       "nonpec_fishing          constant                   -1.00\n",
       "nonpec_friday           constant                   -1.00\n",
       "                        not_fishing_last_period    -1.00\n",
       "nonpec_hammock          constant                    2.50\n",
       "                        not_fishing_last_period    -1.00\n",
       "shocks_sdcorr           sd_fishing                  1.00\n",
       "                        sd_friday                   1.00\n",
       "                        sd_hammock                  1.00\n",
       "                        corr_friday_fishing         0.00\n",
       "                        corr_hammock_fishing        0.00\n",
       "                        corr_hammock_friday         0.00\n",
       "lagged_choice_1_hammock constant                    1.00"
      ]
     },
     "execution_count": 59,
     "metadata": {},
     "output_type": "execute_result"
    }
   ],
   "source": [
    "params_friday = pd.read_csv(\"params_files/robinson_crusoe_friday.csv\", index_col=[\"category\", \"name\"])\n",
    "params_friday"
   ]
  },
  {
   "cell_type": "markdown",
   "metadata": {},
   "source": [
    "Turning to the `options`, we can see that the new covariate `\"contemplation_with_friday\"` is only affecting utility if Robinson is experienced in fishing and only for one interaction with friday. This naturally limits the interaction with Friday. The key `\"negative_choice_set\"` can be used to restrict the choice Friday to the third and following periods. The first key matches a choice. The value of the key can be a list of strings. If the string evaluates to `True`, a utility penalty ensures that individuals will never choose the corresponding states. "
   ]
  },
  {
   "cell_type": "code",
   "execution_count": 60,
   "metadata": {},
   "outputs": [
    {
     "data": {
      "text/plain": [
       "{'n_periods': 10,\n",
       " 'simulation_agents': 1000,\n",
       " 'simulation_seed': 132,\n",
       " 'solution_draws': 500,\n",
       " 'solution_seed': 456,\n",
       " 'covariates': {'constant': '1',\n",
       "  'contemplation_with_friday': 'exp_friday == 1 and exp_fishing >= 1',\n",
       "  'not_fishing_last_period': \"lagged_choice_1 != 'fishing'\"},\n",
       " 'negative_choice_set': {'friday': ['period < 2', 'exp_fishing == 0']},\n",
       " 'core_state_space_filters': [\"period > 0 and exp_fishing + exp_friday == period and lagged_choice_1 == 'hammock'\",\n",
       "  'period <= 2 and exp_friday != 0',\n",
       "  'period >= 3 and period - exp_friday < 2',\n",
       "  'exp_friday > 0 and exp_fishing == 0',\n",
       "  \"exp_friday > 0 and exp_fishing == 1 and lagged_choice_1 == 'fishing'\",\n",
       "  \"period - exp_friday == 2 and lagged_choice_1 != 'friday' and period > 2\",\n",
       "  \"exp_{choices_w_exp} == 0 and lagged_choice_1 == '{choices_w_exp}'\"]}"
      ]
     },
     "execution_count": 60,
     "metadata": {},
     "output_type": "execute_result"
    }
   ],
   "source": [
    "options_friday = yaml.safe_load(open(\"option_files/options_friday.yml\"))\n",
    "options_friday"
   ]
  },
  {
   "cell_type": "code",
   "execution_count": 61,
   "metadata": {},
   "outputs": [],
   "source": [
    "simulate = rp.get_simulate_func(params_friday, options_friday)\n",
    "df_friday = simulate(params_friday)"
   ]
  },
  {
   "cell_type": "code",
   "execution_count": 62,
   "metadata": {},
   "outputs": [
    {
     "data": {
      "image/png": "[encoded data removed]",
      "text/plain": [
       "<Figure size 864x486 with 1 Axes>"
      ]
     },
     "metadata": {
      "needs_background": "light"
     },
     "output_type": "display_data"
    }
   ],
   "source": [
    "plot_choice_shares(df_friday, friday=True)"
   ]
  },
  {
   "cell_type": "code",
   "execution_count": 16,
   "metadata": {},
   "outputs": [
    {
     "data": {
      "text/plain": [
       "<AxesSubplot:xlabel='Choice', ylabel='Lagged_Choice_1'>"
      ]
     },
     "execution_count": 16,
     "metadata": {},
     "output_type": "execute_result"
    },
    {
     "data": {
      "image/png": "[encoded data removed]",
      "text/plain": [
       "<Figure size 864x486 with 2 Axes>"
      ]
     },
     "metadata": {
      "needs_background": "light"
     },
     "output_type": "display_data"
    }
   ],
   "source": [
    "data = pd.crosstab(df_friday.Lagged_Choice_1, df_friday.Choice, normalize=True)\n",
    "sns.heatmap(data, cmap=\"Blues\", annot=True)"
   ]
  },
  {
   "cell_type": "markdown",
   "metadata": {},
   "source": [
    "## Initial experience"
   ]
  },
  {
   "cell_type": "markdown",
   "metadata": {},
   "source": [
    "Next we will introduce how we can include heterogeneity in intitial conditions in `respy`: in period $t=0$, Robinson will be allowed to have $0$, $1$, or $2$ periods of experience in fishing."
   ]
  },
  {
   "cell_type": "code",
   "execution_count": 17,
   "metadata": {},
   "outputs": [
    {
     "data": {
      "text/html": [
       "<div>\n",
       "<style scoped>\n",
       "    .dataframe tbody tr th:only-of-type {\n",
       "        vertical-align: middle;\n",
       "    }\n",
       "\n",
       "    .dataframe tbody tr th {\n",
       "        vertical-align: top;\n",
       "    }\n",
       "\n",
       "    .dataframe thead th {\n",
       "        text-align: right;\n",
       "    }\n",
       "</style>\n",
       "<table border=\"1\" class=\"dataframe\">\n",
       "  <thead>\n",
       "    <tr style=\"text-align: right;\">\n",
       "      <th></th>\n",
       "      <th></th>\n",
       "      <th>value</th>\n",
       "    </tr>\n",
       "    <tr>\n",
       "      <th>category</th>\n",
       "      <th>name</th>\n",
       "      <th></th>\n",
       "    </tr>\n",
       "  </thead>\n",
       "  <tbody>\n",
       "    <tr>\n",
       "      <th>delta</th>\n",
       "      <th>delta</th>\n",
       "      <td>0.95</td>\n",
       "    </tr>\n",
       "    <tr>\n",
       "      <th>wage_fishing</th>\n",
       "      <th>exp_fishing</th>\n",
       "      <td>0.15</td>\n",
       "    </tr>\n",
       "    <tr>\n",
       "      <th>nonpec_fishing</th>\n",
       "      <th>constant</th>\n",
       "      <td>-1.00</td>\n",
       "    </tr>\n",
       "    <tr>\n",
       "      <th rowspan=\"2\" valign=\"top\">nonpec_hammock</th>\n",
       "      <th>constant</th>\n",
       "      <td>2.50</td>\n",
       "    </tr>\n",
       "    <tr>\n",
       "      <th>not_fishing_last_period</th>\n",
       "      <td>-1.00</td>\n",
       "    </tr>\n",
       "    <tr>\n",
       "      <th rowspan=\"3\" valign=\"top\">shocks_sdcorr</th>\n",
       "      <th>sd_fishing</th>\n",
       "      <td>0.50</td>\n",
       "    </tr>\n",
       "    <tr>\n",
       "      <th>sd_hammock</th>\n",
       "      <td>0.50</td>\n",
       "    </tr>\n",
       "    <tr>\n",
       "      <th>corr_hammock_fishing</th>\n",
       "      <td>0.00</td>\n",
       "    </tr>\n",
       "    <tr>\n",
       "      <th>lagged_choice_1_hammock</th>\n",
       "      <th>constant</th>\n",
       "      <td>1.00</td>\n",
       "    </tr>\n",
       "  </tbody>\n",
       "</table>\n",
       "</div>"
      ],
      "text/plain": [
       "                                                 value\n",
       "category                name                          \n",
       "delta                   delta                     0.95\n",
       "wage_fishing            exp_fishing               0.15\n",
       "nonpec_fishing          constant                 -1.00\n",
       "nonpec_hammock          constant                  2.50\n",
       "                        not_fishing_last_period  -1.00\n",
       "shocks_sdcorr           sd_fishing                0.50\n",
       "                        sd_hammock                0.50\n",
       "                        corr_hammock_fishing      0.00\n",
       "lagged_choice_1_hammock constant                  1.00"
      ]
     },
     "execution_count": 17,
     "metadata": {},
     "output_type": "execute_result"
    }
   ],
   "source": [
    "params_basic = pd.read_csv(\"params_files/robinson_crusoe_basic.csv\", index_col=[\"category\", \"name\"])\n",
    "params_basic"
   ]
  },
  {
   "cell_type": "markdown",
   "metadata": {},
   "source": [
    "To allow Robinson to have nonzero experience in fishing in the first period, we need to modify `params`: We specify the distribution of initial experience via **probability mass functions**, as the probabilities do not depend on any information. \n",
    "The keyword is `\"initial_exp_fishing_*\"` in the category-level of the index, where the asterisk needs to be replaced with the experience level. In the name-level, use `\"probability\"` to signal that the float in `\"value\"` is a probability. \n",
    "\n",
    "The new parameter specification is below: Robinson has equal probability to start out with 0, 1 or 2 periods of experience. However, one probability is set to 0.34 so that all probabilities sum to one. If that is not the case, `respy` will emit a warning and normalize probabilities."
   ]
  },
  {
   "cell_type": "code",
   "execution_count": 18,
   "metadata": {},
   "outputs": [
    {
     "data": {
      "text/html": [
       "<div>\n",
       "<style scoped>\n",
       "    .dataframe tbody tr th:only-of-type {\n",
       "        vertical-align: middle;\n",
       "    }\n",
       "\n",
       "    .dataframe tbody tr th {\n",
       "        vertical-align: top;\n",
       "    }\n",
       "\n",
       "    .dataframe thead th {\n",
       "        text-align: right;\n",
       "    }\n",
       "</style>\n",
       "<table border=\"1\" class=\"dataframe\">\n",
       "  <thead>\n",
       "    <tr style=\"text-align: right;\">\n",
       "      <th></th>\n",
       "      <th></th>\n",
       "      <th>value</th>\n",
       "    </tr>\n",
       "    <tr>\n",
       "      <th>category</th>\n",
       "      <th>name</th>\n",
       "      <th></th>\n",
       "    </tr>\n",
       "  </thead>\n",
       "  <tbody>\n",
       "    <tr>\n",
       "      <th>delta</th>\n",
       "      <th>delta</th>\n",
       "      <td>0.95</td>\n",
       "    </tr>\n",
       "    <tr>\n",
       "      <th>wage_fishing</th>\n",
       "      <th>exp_fishing</th>\n",
       "      <td>0.15</td>\n",
       "    </tr>\n",
       "    <tr>\n",
       "      <th>nonpec_fishing</th>\n",
       "      <th>constant</th>\n",
       "      <td>-1.00</td>\n",
       "    </tr>\n",
       "    <tr>\n",
       "      <th rowspan=\"2\" valign=\"top\">nonpec_hammock</th>\n",
       "      <th>constant</th>\n",
       "      <td>2.50</td>\n",
       "    </tr>\n",
       "    <tr>\n",
       "      <th>not_fishing_last_period</th>\n",
       "      <td>-1.00</td>\n",
       "    </tr>\n",
       "    <tr>\n",
       "      <th rowspan=\"3\" valign=\"top\">shocks_sdcorr</th>\n",
       "      <th>sd_fishing</th>\n",
       "      <td>0.50</td>\n",
       "    </tr>\n",
       "    <tr>\n",
       "      <th>sd_hammock</th>\n",
       "      <td>0.50</td>\n",
       "    </tr>\n",
       "    <tr>\n",
       "      <th>corr_hammock_fishing</th>\n",
       "      <td>0.00</td>\n",
       "    </tr>\n",
       "    <tr>\n",
       "      <th>lagged_choice_1_hammock</th>\n",
       "      <th>constant</th>\n",
       "      <td>1.00</td>\n",
       "    </tr>\n",
       "    <tr>\n",
       "      <th>initial_exp_fishing_0</th>\n",
       "      <th>probability</th>\n",
       "      <td>0.33</td>\n",
       "    </tr>\n",
       "    <tr>\n",
       "      <th>initial_exp_fishing_1</th>\n",
       "      <th>probability</th>\n",
       "      <td>0.33</td>\n",
       "    </tr>\n",
       "    <tr>\n",
       "      <th>initial_exp_fishing_2</th>\n",
       "      <th>probability</th>\n",
       "      <td>0.34</td>\n",
       "    </tr>\n",
       "  </tbody>\n",
       "</table>\n",
       "</div>"
      ],
      "text/plain": [
       "                                                 value\n",
       "category                name                          \n",
       "delta                   delta                     0.95\n",
       "wage_fishing            exp_fishing               0.15\n",
       "nonpec_fishing          constant                 -1.00\n",
       "nonpec_hammock          constant                  2.50\n",
       "                        not_fishing_last_period  -1.00\n",
       "shocks_sdcorr           sd_fishing                0.50\n",
       "                        sd_hammock                0.50\n",
       "                        corr_hammock_fishing      0.00\n",
       "lagged_choice_1_hammock constant                  1.00\n",
       "initial_exp_fishing_0   probability               0.33\n",
       "initial_exp_fishing_1   probability               0.33\n",
       "initial_exp_fishing_2   probability               0.34"
      ]
     },
     "execution_count": 18,
     "metadata": {},
     "output_type": "execute_result"
    }
   ],
   "source": [
    "params_initial_exp = params_basic.copy()\n",
    "params_initial_exp.loc[(\"initial_exp_fishing_0\", \"probability\"), \"value\"] = 0.33\n",
    "params_initial_exp.loc[(\"initial_exp_fishing_1\", \"probability\"), \"value\"] = 0.33\n",
    "params_initial_exp.loc[(\"initial_exp_fishing_2\", \"probability\"), \"value\"] = 0.34\n",
    "params_initial_exp"
   ]
  },
  {
   "cell_type": "code",
   "execution_count": 19,
   "metadata": {},
   "outputs": [],
   "source": [
    "simulate = rp.get_simulate_func(params_initial_exp, options_basic)\n",
    "df_exp = simulate(params_initial_exp)"
   ]
  },
  {
   "cell_type": "code",
   "execution_count": 20,
   "metadata": {},
   "outputs": [
    {
     "data": {
      "image/png": "[encoded data removed]",
      "text/plain": [
       "<Figure size 1008x360 with 2 Axes>"
      ]
     },
     "metadata": {
      "needs_background": "light"
     },
     "output_type": "display_data"
    }
   ],
   "source": [
    "plot_choice_prob_and_exp_level(df_basic)"
   ]
  },
  {
   "cell_type": "code",
   "execution_count": 21,
   "metadata": {},
   "outputs": [
    {
     "data": {
      "image/png": "[encoded data removed]",
      "text/plain": [
       "<Figure size 1008x360 with 2 Axes>"
      ]
     },
     "metadata": {
      "needs_background": "light"
     },
     "output_type": "display_data"
    }
   ],
   "source": [
    "plot_choice_prob_and_exp_level(df_exp)"
   ]
  },
  {
   "cell_type": "markdown",
   "metadata": {},
   "source": [
    "## Observables"
   ]
  },
  {
   "cell_type": "markdown",
   "metadata": {},
   "source": [
    "Next add one observable characteristic to the baseline model, `\"Fishing_Grounds\"`: Now Robinson can end up, with a certain probability, on the side of the island which has `\"poor\"` or `\"rich\"` fishing grounds. Experiencing rich fishing grounds affects the **non-pecuniary reward** for fishing: \n",
    "\n",
    "$$\\begin{align}\n",
    "N^f = \\alpha^f + \\zeta^f \\unicode{x1D7D9}_{\\{FG = \"rich\"\\}} \\\\\n",
    "\\end{align}$$\n",
    "\n",
    "The indicator function $\\unicode{x1D7D9}_{\\{condition\\}}$ takes value 1 when the condition is true and value 0 otherwise: Therefore, if Robinson finds himself in rich fishing grounds, his total non-pecuniary rewards from fishing will be equal to $\\alpha^f + \\zeta^f$.\n",
    "\n",
    "to specify the observable, we add three additional rows to params:\n",
    "\n",
    "- The probability with which Robinson will find himself in rich and in poor fishing grounds;\n",
    "\n",
    "- The value of ζf, which here is set to be positive and constant.\n",
    "\n",
    "respy allows for complex probability distributions of observables, which may for instance depend on other covariates. However, throughout this tutorial, we will assume that the observables’ probability distributions do not depend on any other information, and we will add them to the model via probability mass function: Each Robinson is randomly assigned to a certain side of the island, according to the float specified under value in the name-level probability.\n",
    "\n",
    "Note that all probabilities sum to one. If that is not the case, respy will emit a warning and normalize probabilities."
   ]
  },
  {
   "cell_type": "code",
   "execution_count": 22,
   "metadata": {},
   "outputs": [
    {
     "data": {
      "text/html": [
       "<div>\n",
       "<style scoped>\n",
       "    .dataframe tbody tr th:only-of-type {\n",
       "        vertical-align: middle;\n",
       "    }\n",
       "\n",
       "    .dataframe tbody tr th {\n",
       "        vertical-align: top;\n",
       "    }\n",
       "\n",
       "    .dataframe thead th {\n",
       "        text-align: right;\n",
       "    }\n",
       "</style>\n",
       "<table border=\"1\" class=\"dataframe\">\n",
       "  <thead>\n",
       "    <tr style=\"text-align: right;\">\n",
       "      <th></th>\n",
       "      <th></th>\n",
       "      <th>value</th>\n",
       "    </tr>\n",
       "    <tr>\n",
       "      <th>category</th>\n",
       "      <th>name</th>\n",
       "      <th></th>\n",
       "    </tr>\n",
       "  </thead>\n",
       "  <tbody>\n",
       "    <tr>\n",
       "      <th>delta</th>\n",
       "      <th>delta</th>\n",
       "      <td>0.95</td>\n",
       "    </tr>\n",
       "    <tr>\n",
       "      <th>wage_fishing</th>\n",
       "      <th>exp_fishing</th>\n",
       "      <td>0.15</td>\n",
       "    </tr>\n",
       "    <tr>\n",
       "      <th>nonpec_fishing</th>\n",
       "      <th>constant</th>\n",
       "      <td>-1.00</td>\n",
       "    </tr>\n",
       "    <tr>\n",
       "      <th rowspan=\"2\" valign=\"top\">nonpec_hammock</th>\n",
       "      <th>constant</th>\n",
       "      <td>2.50</td>\n",
       "    </tr>\n",
       "    <tr>\n",
       "      <th>not_fishing_last_period</th>\n",
       "      <td>-1.00</td>\n",
       "    </tr>\n",
       "    <tr>\n",
       "      <th rowspan=\"3\" valign=\"top\">shocks_sdcorr</th>\n",
       "      <th>sd_fishing</th>\n",
       "      <td>0.50</td>\n",
       "    </tr>\n",
       "    <tr>\n",
       "      <th>sd_hammock</th>\n",
       "      <td>0.50</td>\n",
       "    </tr>\n",
       "    <tr>\n",
       "      <th>corr_hammock_fishing</th>\n",
       "      <td>0.00</td>\n",
       "    </tr>\n",
       "    <tr>\n",
       "      <th>lagged_choice_1_hammock</th>\n",
       "      <th>constant</th>\n",
       "      <td>1.00</td>\n",
       "    </tr>\n",
       "    <tr>\n",
       "      <th>observable_fishing_grounds_rich</th>\n",
       "      <th>probability</th>\n",
       "      <td>0.50</td>\n",
       "    </tr>\n",
       "    <tr>\n",
       "      <th>observable_fishing_grounds_poor</th>\n",
       "      <th>probability</th>\n",
       "      <td>0.50</td>\n",
       "    </tr>\n",
       "    <tr>\n",
       "      <th>nonpec_fishing</th>\n",
       "      <th>rich_fishing_grounds</th>\n",
       "      <td>0.50</td>\n",
       "    </tr>\n",
       "  </tbody>\n",
       "</table>\n",
       "</div>"
      ],
      "text/plain": [
       "                                                         value\n",
       "category                        name                          \n",
       "delta                           delta                     0.95\n",
       "wage_fishing                    exp_fishing               0.15\n",
       "nonpec_fishing                  constant                 -1.00\n",
       "nonpec_hammock                  constant                  2.50\n",
       "                                not_fishing_last_period  -1.00\n",
       "shocks_sdcorr                   sd_fishing                0.50\n",
       "                                sd_hammock                0.50\n",
       "                                corr_hammock_fishing      0.00\n",
       "lagged_choice_1_hammock         constant                  1.00\n",
       "observable_fishing_grounds_rich probability               0.50\n",
       "observable_fishing_grounds_poor probability               0.50\n",
       "nonpec_fishing                  rich_fishing_grounds      0.50"
      ]
     },
     "execution_count": 22,
     "metadata": {},
     "output_type": "execute_result"
    }
   ],
   "source": [
    "params_fish_ground = params_basic.copy()\n",
    "params_fish_ground.loc[(\"observable_fishing_grounds_rich\", \"probability\"), \"value\"] = 0.5\n",
    "params_fish_ground.loc[(\"observable_fishing_grounds_poor\", \"probability\"), \"value\"] = 0.5\n",
    "params_fish_ground.loc[(\"nonpec_fishing\", \"rich_fishing_grounds\"), \"value\"] = 0.5\n",
    "params_fish_ground"
   ]
  },
  {
   "cell_type": "markdown",
   "metadata": {},
   "source": [
    "We also need to overwrite the covariates section of options to include which level of the observable is associated with a higher nonpecuniary reward for fishing:"
   ]
  },
  {
   "cell_type": "code",
   "execution_count": 23,
   "metadata": {},
   "outputs": [
    {
     "data": {
      "text/plain": [
       "{'n_periods': 10,\n",
       " 'simulation_agents': 1000,\n",
       " 'simulation_seed': 1323,\n",
       " 'covariates': {'constant': '1',\n",
       "  'not_fishing_last_period': \"lagged_choice_1 != 'fishing'\",\n",
       "  'rich_fishing_grounds': \"fishing_grounds == 'rich'\"}}"
      ]
     },
     "execution_count": 23,
     "metadata": {},
     "output_type": "execute_result"
    }
   ],
   "source": [
    "options_fish_ground = options_basic.copy()\n",
    "options_fish_ground[\"covariates\"] = {\n",
    "    \"constant\": \"1\",\n",
    "    'not_fishing_last_period': \"lagged_choice_1 != 'fishing'\",\n",
    "    \"rich_fishing_grounds\": \"fishing_grounds == 'rich'\",\n",
    "}\n",
    "options_fish_ground"
   ]
  },
  {
   "cell_type": "code",
   "execution_count": 24,
   "metadata": {},
   "outputs": [],
   "source": [
    "simulate = rp.get_simulate_func(params_fish_ground, options_fish_ground)\n",
    "df_fish_ground = simulate(params_fish_ground)"
   ]
  },
  {
   "cell_type": "code",
   "execution_count": 25,
   "metadata": {},
   "outputs": [
    {
     "data": {
      "image/png": "[encoded data removed]",
      "text/plain": [
       "<Figure size 1008x360 with 2 Axes>"
      ]
     },
     "metadata": {
      "needs_background": "light"
     },
     "output_type": "display_data"
    }
   ],
   "source": [
    "fig, ax = plt.subplots(1, 2, figsize=(14, 5))\n",
    "\n",
    "for i, observable in enumerate([\"rich\", \"poor\"]):\n",
    "    df_fish_ground.query(\"Fishing_Grounds == @observable\").groupby(\"Period\").Choice.value_counts(\n",
    "        normalize=True,\n",
    "    ).unstack().plot.bar(width=0.4, stacked=True, rot=0, legend=False, ax=ax[i])\n",
    "    ax[i].set_title(\"Fishing grounds: \" + observable, pad=10)\n",
    "    ax[i].xaxis.label.set_visible(False)\n",
    "\n",
    "plt.legend(loc=\"lower center\", bbox_to_anchor=(-0.15, -0.3), ncol=2)\n",
    "plt.suptitle(\"Robinson's choices by period\", y=1.05)\n",
    "\n",
    "plt.show()"
   ]
  },
  {
   "cell_type": "code",
   "execution_count": null,
   "metadata": {},
   "outputs": [],
   "source": []
  }
 ],
 "metadata": {
  "kernelspec": {
   "display_name": "Python 3",
   "language": "python",
   "name": "python3"
  },
  "language_info": {
   "codemirror_mode": {
    "name": "ipython",
    "version": 3
   },
   "file_extension": ".py",
   "mimetype": "text/x-python",
   "name": "python",
   "nbconvert_exporter": "python",
   "pygments_lexer": "ipython3",
   "version": "3.8.5"
  }
 },
 "nbformat": 4,
 "nbformat_minor": 4
}
