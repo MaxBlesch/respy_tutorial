{
 "cells": [
  {
   "cell_type": "markdown",
   "metadata": {},
   "source": [
    "# Further and upcoming functionality in respy (blue style)\n",
    " \n",
    "As `respy` is an open source project multiple teams work on extensions of the existing flexibility. The next major advancements are:\n",
    "\n",
    "- Exogenous processes (Child birth, health shocks etc.)\n",
    "\n",
    "- Consumption and saving decision.\n",
    " \n",
    "A very recent and big step for `respy` was the introduction of state specific choice sets. As documentation is still in development, there are not tutorials yet for every aspect.\n",
    "\n",
    "Besides simulation of economic models, `respy` of course offers the possibility to estimate your model on data. Furthermore you have the option to fix certain parameters and only estimate others. For the estimation, the following techniques are available:\n",
    "\n",
    "- Maximum likelihood estimation (ML)\n",
    "- Method of simulated moments (MSM)\n",
    "\n",
    "Note that `respy`, does not have any optimizers implemented. For a set of given parameters `respy` creates the corresponding criterion function value. It is best optimized by the OpenSourceEconomics estimation package `estimagic`. Further examples of OSE software packages designed to interact with each other are:\n",
    "\n",
    "- `ruspy` is an open-source Python package for the simulation and estimation of a prototypical infinite-horizon dynamic discrete choice model based on Rust (1987).\n",
    "\n",
    "- `grmpy` is an open-source Python package for the simulation and estimation of the generalized Roy model.\n",
    "\n",
    "- `econsa`is an open-source Python package that facilitates uncertainty propagation and global sensitivity of computational economic models.analysis.\n",
    "\n",
    "- `robupy`is an open-source Python package for robust decision making.\n",
    "\n",
    "- `gettsim` is an open-source Python package developed by OSE members providing a depiction of the German Taxes and Transfers System.\n",
    " \n",
    " \n",
    " "
   ]
  }
 ],
 "metadata": {
  "kernelspec": {
   "display_name": "Python 3",
   "language": "python",
   "name": "python3"
  },
  "language_info": {
   "codemirror_mode": {
    "name": "ipython",
    "version": 3
   },
   "file_extension": ".py",
   "mimetype": "text/x-python",
   "name": "python",
   "nbconvert_exporter": "python",
   "pygments_lexer": "ipython3",
   "version": "3.8.5"
  }
 },
 "nbformat": 4,
 "nbformat_minor": 4
}
